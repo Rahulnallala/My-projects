{
 "cells": [
  {
   "cell_type": "markdown",
   "id": "f94d0cd4",
   "metadata": {
    "papermill": {
     "duration": 0.202185,
     "end_time": "2022-04-29T12:21:29.047515",
     "exception": false,
     "start_time": "2022-04-29T12:21:28.845330",
     "status": "completed"
    },
    "tags": []
   },
   "source": [
    "This notebook contains the EDA, data processing, and model building ideas for project **CO2 Emissions by Cars** which can be accessed at : [GitHub](https://github.com/d0r1h/CO2-Emission-by-Cars)"
   ]
  },
  {
   "cell_type": "markdown",
   "id": "50ae664f",
   "metadata": {
    "papermill": {
     "duration": 0.198315,
     "end_time": "2022-04-29T12:21:29.442274",
     "exception": false,
     "start_time": "2022-04-29T12:21:29.243959",
     "status": "completed"
    },
    "tags": []
   },
   "source": [
    "[Dataset](https://www.kaggle.com/datasets/debajyotipodder/co2-emission-by-vehicles) captures the details of how CO2 emissions by a vehicle can vary with the different features. The dataset has been taken from Canada Government official open data website."
   ]
  },
  {
   "cell_type": "markdown",
   "id": "477e0cb2",
   "metadata": {
    "papermill": {
     "duration": 0.194695,
     "end_time": "2022-04-29T12:21:29.832605",
     "exception": false,
     "start_time": "2022-04-29T12:21:29.637910",
     "status": "completed"
    },
    "tags": []
   },
   "source": [
    "## Table of Contents\n",
    "\n",
    "1. **[Import Libraries](#import_lib)**\n",
    "2. **[Set Options](#set_options)**\n",
    "3. **[Read Data](#Read_Data)**\n",
    "4. **[Exploratory Data Analysis](#data_preparation)**\n",
    "    - 4.1 - [Preparing the Dataset](#Data_Preparing)\n",
    "        - 4.1.1 - [Data Dimension](#Data_Shape)\n",
    "        - 4.1.2 - [Data Types](#Data_Types)\n",
    "        - 4.1.3 - [Missing Values](#Missing_Values)\n",
    "        - 4.1.4 - [Duplicate Data](#duplicate)\n",
    "    - 4.2 - [Understanding the Dataset](#Data_Understanding)\n",
    "        - 4.2.1 - [Summary Statistics](#Summary_Statistics)\n",
    "        - 4.2.2 - [Correlation](#correlation)\n",
    "        - 4.2.3 - [Analyze Categorical Variables](#analyze_cat_var)\n",
    "        - 4.2.4 - [Anaylze Target Variable](#analyze_tar_var)\n",
    "        - 4.2.5 - [Analyze Relationship Between Target and Independent Variables](#analyze_tar_ind_var)\n",
    "        - 4.2.6 - [Feature Engineering](#feature_eng)\n",
    "5. **[Data Pre-Processing](#data_pre)**\n",
    "    - 5.1 - [Outliers](#out)\n",
    "        - 5.1.1 - [Discovery of Outliers](#dis_out)\n",
    "        - 5.1.2 - [Removal of Outliers](#rem_out)\n",
    "        - 5.1.3 - [Rechecking of Correlation](#rec_cor)\n",
    "    - 5.2 - [Categorical Encoding](#cat_enc)\n",
    "6. **[Building Multiple Linear Regression Models](#bui_mlr_mod)**\n",
    "    - 6.1 - [Multiple Linear Regression - Basic Model](#bas_mod)\n",
    "    - 6.2 - [Feature Transformation](#fea_tra)\n",
    "    - 6.3 - [Feature Scaling](#fea_sca)\n",
    "    - 6.4 - [Multiple Linear Regression - Full Model - After Feature Scaling](#mod_aft_sca)\n",
    "    - 6.5 - [Assumptions Before Multiple Linear Regression Model](#ass_bef)\n",
    "        - 6.5.1 - [Assumption #1: If Target Variable is Numeric](#tgt_num)\n",
    "        - 6.5.2 - [Assumption #2: Presence of Multi-Collinearity](#pre_mul_col)\n",
    "    - 6.6 - [Multiple Linear Regression - Full Model - After PCA](#mod_pca)\n",
    "    - 6.7 - [Feature Selection](#fea_sel)\n",
    "        - 6.7.1 - [Forward Selection](#for_sel)\n",
    "        - 6.7.2 - [Backward Elimination](#bac_eli)\n",
    "    - 6.8 - [Multiple Linear Regression - Full Model - After Feature Selection](#mod_fea_sel)\n",
    "    - 6.9 - [Assumptions After Multiple Linear Regression Model](#ass_aft)\n",
    "        - 6.9.1 - [Assumption #1: Linear Relationship Between Dependent and Independent Variable](#lr_dep_ind)\n",
    "        - 6.9.2 - [Assumption #2: Checking for Autocorrelation](#che_aut_cor)\n",
    "        - 6.9.3 - [Assumption #3: Checking for Heterskedacity](#che_het)\n",
    "        - 6.9.4 - [Assumption #4: Test for Normality](#tes_nor)\n",
    "            - 6.9.4.1 - [Q-Q Plot](#qq_plt)\n",
    "            - 6.9.4.2 - [Shapiro Wilk Test](#sha_wil_tes)\n",
    "7. **[Model Evaluation](#mod_eva)**\n",
    "    - 7.1 - [Measures of Variation](#mea_var)\n",
    "    - 7.2 - [Inferences about Intercept and Slope](#inf_int_slo)\n",
    "    - 7.3 - [Confidence Interval for Intercept and Slope](#con_int_slo)\n",
    "    - 7.4 - [Compare Regression Results](#com_reg_res)\n",
    "8. **[Model Performance](#mod_per)**\n",
    "    - 8.1 - [Mean Square Error(MSE)](#mse)\n",
    "    - 8.2 - [Root Mean Squared Error(RMSE)](#rmse)\n",
    "    - 8.3 - [Mean Absolute Error(MAE)](#mae)\n",
    "    - 8.4 - [Mean Absolute Percentage Error(MAPE)](#mape)\n",
    "    - 8.5 - [Resultant Table](#res_tab)\n",
    "9. **[Model Optimization](#mod_opt)**\n",
    "    - 9.1 - [Bias](#bias)\n",
    "    - 9.2 - [Variance](#var)\n",
    "    - 9.3 - [Model Validation](#mod_val)\n",
    "      - 9.3.1 - [Cross Validation](#cro_val)\n",
    "      - 9.3.2 - [Leave One Out Cross Validation(LOOCV)](#loocv)\n",
    "    - 9.4 - [Gradient Descent](#gra_des)\n",
    "    - 9.5 - [Regularization](#reg)\n",
    "      - 9.5.1 - [Ridge Regression Model](#ridge)\n",
    "      - 9.5.2 - [Lasso Regression Model](#lasso)\n",
    "      - 9.5.3 - [Elastic Net Regression Model](#ela_net)\n",
    "      - 9.5.4 - [Grid Search CV](#gri_sea)\n",
    "10. **[Displaying Score Summary](#dis_sco_sum)**\n",
    "11. **[Conclusion](#conclu)**"
   ]
  },
  {
   "cell_type": "markdown",
   "id": "a206a1ad",
   "metadata": {
    "papermill": {
     "duration": 0.194874,
     "end_time": "2022-04-29T12:21:30.225007",
     "exception": false,
     "start_time": "2022-04-29T12:21:30.030133",
     "status": "completed"
    },
    "tags": []
   },
   "source": [
    "#### **Data Description**\n",
    "\n",
    "\n",
    "**Model**\n",
    "\n",
    "1. 4WD/4X4 = Four-wheel drive\n",
    "2. AWD = All-wheel drive\n",
    "3. FFV = Flexible-fuel vehicle\n",
    "4. SWB = Short wheelbase\n",
    "5. LWB = Long wheelbase\n",
    "6. EWB = Extended wheelbase\n",
    "\n",
    "**Transmission**\n",
    "\n",
    "1. A = Automatic\n",
    "2. AM = Automated manual\n",
    "3. AS = Automatic with select shift\n",
    "4. AV = Continuously variable\n",
    "5. M = Manual\n",
    "6. 3 - 10 = Number of gears\n",
    "\n",
    "**Fuel type**\n",
    "\n",
    "1. X = Regular gasoline\n",
    "2. Z = Premium gasoline\n",
    "3. D = Diesel\n",
    "4. E = Ethanol (E85)\n",
    "5. N = Natural gas\n",
    "\n",
    "**Fuel Consumption**\n",
    "\n",
    "City and highway fuel consumption ratings are shown in litres per 100 kilometres (L/100 km) - the combined rating (55% city, 45% hwy) is shown in L/100 km and in miles per gallon (mpg).\n",
    "\n",
    "**CO2 Emissions**\n",
    "\n",
    "The tailpipe emissions of carbon dioxide (in grams per kilometre) for combined city and highway driving"
   ]
  },
  {
   "cell_type": "markdown",
   "id": "73540f53",
   "metadata": {
    "papermill": {
     "duration": 0.195359,
     "end_time": "2022-04-29T12:21:30.621126",
     "exception": false,
     "start_time": "2022-04-29T12:21:30.425767",
     "status": "completed"
    },
    "tags": []
   },
   "source": [
    "# 1. Import Libraries <a id='import_lib'></a>"
   ]
  },
  {
   "cell_type": "code",
   "execution_count": 1,
   "id": "22c158c5",
   "metadata": {
    "papermill": {
     "duration": 12.45186,
     "end_time": "2022-04-29T12:21:43.272756",
     "exception": false,
     "start_time": "2022-04-29T12:21:30.820896",
     "status": "completed"
    },
    "tags": []
   },
   "outputs": [],
   "source": [
    "!pip install mlxtend -qq"
   ]
  },
  {
   "cell_type": "code",
   "execution_count": 2,
   "id": "491c460d",
   "metadata": {
    "papermill": {
     "duration": 2.425111,
     "end_time": "2022-04-29T12:21:45.896380",
     "exception": false,
     "start_time": "2022-04-29T12:21:43.471269",
     "status": "completed"
    },
    "tags": []
   },
   "outputs": [],
   "source": [
    "import numpy as np\n",
    "import pandas as pd\n",
    "import seaborn as sns\n",
    "import matplotlib.pyplot as plt\n",
    "\n",
    "import statsmodels\n",
    "from scipy import stats\n",
    "import statsmodels.api as sm\n",
    "from scipy.stats import shapiro\n",
    "import statsmodels.stats.api as sms\n",
    "from statsmodels.compat import lzip\n",
    "from statsmodels.formula.api import ols\n",
    "from statsmodels.stats.anova import anova_lm\n",
    "from statsmodels.tools.eval_measures import rmse\n",
    "from statsmodels.graphics.gofplots import qqplot\n",
    "from statsmodels.stats.outliers_influence import variance_inflation_factor\n",
    "\n",
    "from sklearn.decomposition import PCA\n",
    "from sklearn.preprocessing import StandardScaler, MinMaxScaler \n",
    "from sklearn.metrics import mean_squared_error, mean_absolute_error\n",
    "from sklearn.feature_selection import RFE\n",
    "from mlxtend.feature_selection import SequentialFeatureSelector as sfs\n",
    "from sklearn.linear_model import Lasso, Ridge, ElasticNet, SGDRegressor, LinearRegression\n",
    "from sklearn.model_selection import KFold, LeaveOneOut, GridSearchCV, cross_val_score, train_test_split\n",
    "\n",
    "%matplotlib inline\n",
    "\n",
    "from warnings import filterwarnings\n",
    "filterwarnings('ignore')"
   ]
  },
  {
   "cell_type": "markdown",
   "id": "b10c95af",
   "metadata": {
    "papermill": {
     "duration": 0.193757,
     "end_time": "2022-04-29T12:21:46.287411",
     "exception": false,
     "start_time": "2022-04-29T12:21:46.093654",
     "status": "completed"
    },
    "tags": []
   },
   "source": [
    "# 2. Set Options <a id='set_options'></a>"
   ]
  },
  {
   "cell_type": "code",
   "execution_count": 3,
   "id": "e80d6e60",
   "metadata": {
    "papermill": {
     "duration": 0.203725,
     "end_time": "2022-04-29T12:21:46.685623",
     "exception": false,
     "start_time": "2022-04-29T12:21:46.481898",
     "status": "completed"
    },
    "tags": []
   },
   "outputs": [],
   "source": [
    "pd.options.display.max_columns = None\n",
    "pd.options.display.max_rows = None\n",
    "pd.options.display.float_format = '{:.6f}'.format"
   ]
  },
  {
   "cell_type": "markdown",
   "id": "dc6dce58",
   "metadata": {
    "papermill": {
     "duration": 0.19699,
     "end_time": "2022-04-29T12:21:47.079148",
     "exception": false,
     "start_time": "2022-04-29T12:21:46.882158",
     "status": "completed"
    },
    "tags": []
   },
   "source": [
    "# 3. Read Data <a id='Read_Data'></a>"
   ]
  },
  {
   "cell_type": "code",
   "execution_count": 5,
   "id": "adbb0226",
   "metadata": {
    "papermill": {
     "duration": 0.262347,
     "end_time": "2022-04-29T12:21:47.536432",
     "exception": false,
     "start_time": "2022-04-29T12:21:47.274085",
     "status": "completed"
    },
    "tags": []
   },
   "outputs": [
    {
     "ename": "FileNotFoundError",
     "evalue": "[Errno 2] No such file or directory: 'final_co2.csv'",
     "output_type": "error",
     "traceback": [
      "\u001b[1;31m---------------------------------------------------------------------------\u001b[0m",
      "\u001b[1;31mFileNotFoundError\u001b[0m                         Traceback (most recent call last)",
      "Cell \u001b[1;32mIn[5], line 1\u001b[0m\n\u001b[1;32m----> 1\u001b[0m data \u001b[38;5;241m=\u001b[39m \u001b[43mpd\u001b[49m\u001b[38;5;241;43m.\u001b[39;49m\u001b[43mread_csv\u001b[49m\u001b[43m(\u001b[49m\u001b[38;5;124;43m\"\u001b[39;49m\u001b[38;5;124;43mfinal_co2.csv\u001b[39;49m\u001b[38;5;124;43m\"\u001b[39;49m\u001b[43m)\u001b[49m\n\u001b[0;32m      3\u001b[0m data\u001b[38;5;241m.\u001b[39mhead()\n",
      "File \u001b[1;32m~\\AppData\\Local\\Programs\\Python\\Python312\\Lib\\site-packages\\pandas\\io\\parsers\\readers.py:948\u001b[0m, in \u001b[0;36mread_csv\u001b[1;34m(filepath_or_buffer, sep, delimiter, header, names, index_col, usecols, dtype, engine, converters, true_values, false_values, skipinitialspace, skiprows, skipfooter, nrows, na_values, keep_default_na, na_filter, verbose, skip_blank_lines, parse_dates, infer_datetime_format, keep_date_col, date_parser, date_format, dayfirst, cache_dates, iterator, chunksize, compression, thousands, decimal, lineterminator, quotechar, quoting, doublequote, escapechar, comment, encoding, encoding_errors, dialect, on_bad_lines, delim_whitespace, low_memory, memory_map, float_precision, storage_options, dtype_backend)\u001b[0m\n\u001b[0;32m    935\u001b[0m kwds_defaults \u001b[38;5;241m=\u001b[39m _refine_defaults_read(\n\u001b[0;32m    936\u001b[0m     dialect,\n\u001b[0;32m    937\u001b[0m     delimiter,\n\u001b[1;32m   (...)\u001b[0m\n\u001b[0;32m    944\u001b[0m     dtype_backend\u001b[38;5;241m=\u001b[39mdtype_backend,\n\u001b[0;32m    945\u001b[0m )\n\u001b[0;32m    946\u001b[0m kwds\u001b[38;5;241m.\u001b[39mupdate(kwds_defaults)\n\u001b[1;32m--> 948\u001b[0m \u001b[38;5;28;01mreturn\u001b[39;00m \u001b[43m_read\u001b[49m\u001b[43m(\u001b[49m\u001b[43mfilepath_or_buffer\u001b[49m\u001b[43m,\u001b[49m\u001b[43m \u001b[49m\u001b[43mkwds\u001b[49m\u001b[43m)\u001b[49m\n",
      "File \u001b[1;32m~\\AppData\\Local\\Programs\\Python\\Python312\\Lib\\site-packages\\pandas\\io\\parsers\\readers.py:611\u001b[0m, in \u001b[0;36m_read\u001b[1;34m(filepath_or_buffer, kwds)\u001b[0m\n\u001b[0;32m    608\u001b[0m _validate_names(kwds\u001b[38;5;241m.\u001b[39mget(\u001b[38;5;124m\"\u001b[39m\u001b[38;5;124mnames\u001b[39m\u001b[38;5;124m\"\u001b[39m, \u001b[38;5;28;01mNone\u001b[39;00m))\n\u001b[0;32m    610\u001b[0m \u001b[38;5;66;03m# Create the parser.\u001b[39;00m\n\u001b[1;32m--> 611\u001b[0m parser \u001b[38;5;241m=\u001b[39m \u001b[43mTextFileReader\u001b[49m\u001b[43m(\u001b[49m\u001b[43mfilepath_or_buffer\u001b[49m\u001b[43m,\u001b[49m\u001b[43m \u001b[49m\u001b[38;5;241;43m*\u001b[39;49m\u001b[38;5;241;43m*\u001b[39;49m\u001b[43mkwds\u001b[49m\u001b[43m)\u001b[49m\n\u001b[0;32m    613\u001b[0m \u001b[38;5;28;01mif\u001b[39;00m chunksize \u001b[38;5;129;01mor\u001b[39;00m iterator:\n\u001b[0;32m    614\u001b[0m     \u001b[38;5;28;01mreturn\u001b[39;00m parser\n",
      "File \u001b[1;32m~\\AppData\\Local\\Programs\\Python\\Python312\\Lib\\site-packages\\pandas\\io\\parsers\\readers.py:1448\u001b[0m, in \u001b[0;36mTextFileReader.__init__\u001b[1;34m(self, f, engine, **kwds)\u001b[0m\n\u001b[0;32m   1445\u001b[0m     \u001b[38;5;28mself\u001b[39m\u001b[38;5;241m.\u001b[39moptions[\u001b[38;5;124m\"\u001b[39m\u001b[38;5;124mhas_index_names\u001b[39m\u001b[38;5;124m\"\u001b[39m] \u001b[38;5;241m=\u001b[39m kwds[\u001b[38;5;124m\"\u001b[39m\u001b[38;5;124mhas_index_names\u001b[39m\u001b[38;5;124m\"\u001b[39m]\n\u001b[0;32m   1447\u001b[0m \u001b[38;5;28mself\u001b[39m\u001b[38;5;241m.\u001b[39mhandles: IOHandles \u001b[38;5;241m|\u001b[39m \u001b[38;5;28;01mNone\u001b[39;00m \u001b[38;5;241m=\u001b[39m \u001b[38;5;28;01mNone\u001b[39;00m\n\u001b[1;32m-> 1448\u001b[0m \u001b[38;5;28mself\u001b[39m\u001b[38;5;241m.\u001b[39m_engine \u001b[38;5;241m=\u001b[39m \u001b[38;5;28;43mself\u001b[39;49m\u001b[38;5;241;43m.\u001b[39;49m\u001b[43m_make_engine\u001b[49m\u001b[43m(\u001b[49m\u001b[43mf\u001b[49m\u001b[43m,\u001b[49m\u001b[43m \u001b[49m\u001b[38;5;28;43mself\u001b[39;49m\u001b[38;5;241;43m.\u001b[39;49m\u001b[43mengine\u001b[49m\u001b[43m)\u001b[49m\n",
      "File \u001b[1;32m~\\AppData\\Local\\Programs\\Python\\Python312\\Lib\\site-packages\\pandas\\io\\parsers\\readers.py:1705\u001b[0m, in \u001b[0;36mTextFileReader._make_engine\u001b[1;34m(self, f, engine)\u001b[0m\n\u001b[0;32m   1703\u001b[0m     \u001b[38;5;28;01mif\u001b[39;00m \u001b[38;5;124m\"\u001b[39m\u001b[38;5;124mb\u001b[39m\u001b[38;5;124m\"\u001b[39m \u001b[38;5;129;01mnot\u001b[39;00m \u001b[38;5;129;01min\u001b[39;00m mode:\n\u001b[0;32m   1704\u001b[0m         mode \u001b[38;5;241m+\u001b[39m\u001b[38;5;241m=\u001b[39m \u001b[38;5;124m\"\u001b[39m\u001b[38;5;124mb\u001b[39m\u001b[38;5;124m\"\u001b[39m\n\u001b[1;32m-> 1705\u001b[0m \u001b[38;5;28mself\u001b[39m\u001b[38;5;241m.\u001b[39mhandles \u001b[38;5;241m=\u001b[39m \u001b[43mget_handle\u001b[49m\u001b[43m(\u001b[49m\n\u001b[0;32m   1706\u001b[0m \u001b[43m    \u001b[49m\u001b[43mf\u001b[49m\u001b[43m,\u001b[49m\n\u001b[0;32m   1707\u001b[0m \u001b[43m    \u001b[49m\u001b[43mmode\u001b[49m\u001b[43m,\u001b[49m\n\u001b[0;32m   1708\u001b[0m \u001b[43m    \u001b[49m\u001b[43mencoding\u001b[49m\u001b[38;5;241;43m=\u001b[39;49m\u001b[38;5;28;43mself\u001b[39;49m\u001b[38;5;241;43m.\u001b[39;49m\u001b[43moptions\u001b[49m\u001b[38;5;241;43m.\u001b[39;49m\u001b[43mget\u001b[49m\u001b[43m(\u001b[49m\u001b[38;5;124;43m\"\u001b[39;49m\u001b[38;5;124;43mencoding\u001b[39;49m\u001b[38;5;124;43m\"\u001b[39;49m\u001b[43m,\u001b[49m\u001b[43m \u001b[49m\u001b[38;5;28;43;01mNone\u001b[39;49;00m\u001b[43m)\u001b[49m\u001b[43m,\u001b[49m\n\u001b[0;32m   1709\u001b[0m \u001b[43m    \u001b[49m\u001b[43mcompression\u001b[49m\u001b[38;5;241;43m=\u001b[39;49m\u001b[38;5;28;43mself\u001b[39;49m\u001b[38;5;241;43m.\u001b[39;49m\u001b[43moptions\u001b[49m\u001b[38;5;241;43m.\u001b[39;49m\u001b[43mget\u001b[49m\u001b[43m(\u001b[49m\u001b[38;5;124;43m\"\u001b[39;49m\u001b[38;5;124;43mcompression\u001b[39;49m\u001b[38;5;124;43m\"\u001b[39;49m\u001b[43m,\u001b[49m\u001b[43m \u001b[49m\u001b[38;5;28;43;01mNone\u001b[39;49;00m\u001b[43m)\u001b[49m\u001b[43m,\u001b[49m\n\u001b[0;32m   1710\u001b[0m \u001b[43m    \u001b[49m\u001b[43mmemory_map\u001b[49m\u001b[38;5;241;43m=\u001b[39;49m\u001b[38;5;28;43mself\u001b[39;49m\u001b[38;5;241;43m.\u001b[39;49m\u001b[43moptions\u001b[49m\u001b[38;5;241;43m.\u001b[39;49m\u001b[43mget\u001b[49m\u001b[43m(\u001b[49m\u001b[38;5;124;43m\"\u001b[39;49m\u001b[38;5;124;43mmemory_map\u001b[39;49m\u001b[38;5;124;43m\"\u001b[39;49m\u001b[43m,\u001b[49m\u001b[43m \u001b[49m\u001b[38;5;28;43;01mFalse\u001b[39;49;00m\u001b[43m)\u001b[49m\u001b[43m,\u001b[49m\n\u001b[0;32m   1711\u001b[0m \u001b[43m    \u001b[49m\u001b[43mis_text\u001b[49m\u001b[38;5;241;43m=\u001b[39;49m\u001b[43mis_text\u001b[49m\u001b[43m,\u001b[49m\n\u001b[0;32m   1712\u001b[0m \u001b[43m    \u001b[49m\u001b[43merrors\u001b[49m\u001b[38;5;241;43m=\u001b[39;49m\u001b[38;5;28;43mself\u001b[39;49m\u001b[38;5;241;43m.\u001b[39;49m\u001b[43moptions\u001b[49m\u001b[38;5;241;43m.\u001b[39;49m\u001b[43mget\u001b[49m\u001b[43m(\u001b[49m\u001b[38;5;124;43m\"\u001b[39;49m\u001b[38;5;124;43mencoding_errors\u001b[39;49m\u001b[38;5;124;43m\"\u001b[39;49m\u001b[43m,\u001b[49m\u001b[43m \u001b[49m\u001b[38;5;124;43m\"\u001b[39;49m\u001b[38;5;124;43mstrict\u001b[39;49m\u001b[38;5;124;43m\"\u001b[39;49m\u001b[43m)\u001b[49m\u001b[43m,\u001b[49m\n\u001b[0;32m   1713\u001b[0m \u001b[43m    \u001b[49m\u001b[43mstorage_options\u001b[49m\u001b[38;5;241;43m=\u001b[39;49m\u001b[38;5;28;43mself\u001b[39;49m\u001b[38;5;241;43m.\u001b[39;49m\u001b[43moptions\u001b[49m\u001b[38;5;241;43m.\u001b[39;49m\u001b[43mget\u001b[49m\u001b[43m(\u001b[49m\u001b[38;5;124;43m\"\u001b[39;49m\u001b[38;5;124;43mstorage_options\u001b[39;49m\u001b[38;5;124;43m\"\u001b[39;49m\u001b[43m,\u001b[49m\u001b[43m \u001b[49m\u001b[38;5;28;43;01mNone\u001b[39;49;00m\u001b[43m)\u001b[49m\u001b[43m,\u001b[49m\n\u001b[0;32m   1714\u001b[0m \u001b[43m\u001b[49m\u001b[43m)\u001b[49m\n\u001b[0;32m   1715\u001b[0m \u001b[38;5;28;01massert\u001b[39;00m \u001b[38;5;28mself\u001b[39m\u001b[38;5;241m.\u001b[39mhandles \u001b[38;5;129;01mis\u001b[39;00m \u001b[38;5;129;01mnot\u001b[39;00m \u001b[38;5;28;01mNone\u001b[39;00m\n\u001b[0;32m   1716\u001b[0m f \u001b[38;5;241m=\u001b[39m \u001b[38;5;28mself\u001b[39m\u001b[38;5;241m.\u001b[39mhandles\u001b[38;5;241m.\u001b[39mhandle\n",
      "File \u001b[1;32m~\\AppData\\Local\\Programs\\Python\\Python312\\Lib\\site-packages\\pandas\\io\\common.py:863\u001b[0m, in \u001b[0;36mget_handle\u001b[1;34m(path_or_buf, mode, encoding, compression, memory_map, is_text, errors, storage_options)\u001b[0m\n\u001b[0;32m    858\u001b[0m \u001b[38;5;28;01melif\u001b[39;00m \u001b[38;5;28misinstance\u001b[39m(handle, \u001b[38;5;28mstr\u001b[39m):\n\u001b[0;32m    859\u001b[0m     \u001b[38;5;66;03m# Check whether the filename is to be opened in binary mode.\u001b[39;00m\n\u001b[0;32m    860\u001b[0m     \u001b[38;5;66;03m# Binary mode does not support 'encoding' and 'newline'.\u001b[39;00m\n\u001b[0;32m    861\u001b[0m     \u001b[38;5;28;01mif\u001b[39;00m ioargs\u001b[38;5;241m.\u001b[39mencoding \u001b[38;5;129;01mand\u001b[39;00m \u001b[38;5;124m\"\u001b[39m\u001b[38;5;124mb\u001b[39m\u001b[38;5;124m\"\u001b[39m \u001b[38;5;129;01mnot\u001b[39;00m \u001b[38;5;129;01min\u001b[39;00m ioargs\u001b[38;5;241m.\u001b[39mmode:\n\u001b[0;32m    862\u001b[0m         \u001b[38;5;66;03m# Encoding\u001b[39;00m\n\u001b[1;32m--> 863\u001b[0m         handle \u001b[38;5;241m=\u001b[39m \u001b[38;5;28;43mopen\u001b[39;49m\u001b[43m(\u001b[49m\n\u001b[0;32m    864\u001b[0m \u001b[43m            \u001b[49m\u001b[43mhandle\u001b[49m\u001b[43m,\u001b[49m\n\u001b[0;32m    865\u001b[0m \u001b[43m            \u001b[49m\u001b[43mioargs\u001b[49m\u001b[38;5;241;43m.\u001b[39;49m\u001b[43mmode\u001b[49m\u001b[43m,\u001b[49m\n\u001b[0;32m    866\u001b[0m \u001b[43m            \u001b[49m\u001b[43mencoding\u001b[49m\u001b[38;5;241;43m=\u001b[39;49m\u001b[43mioargs\u001b[49m\u001b[38;5;241;43m.\u001b[39;49m\u001b[43mencoding\u001b[49m\u001b[43m,\u001b[49m\n\u001b[0;32m    867\u001b[0m \u001b[43m            \u001b[49m\u001b[43merrors\u001b[49m\u001b[38;5;241;43m=\u001b[39;49m\u001b[43merrors\u001b[49m\u001b[43m,\u001b[49m\n\u001b[0;32m    868\u001b[0m \u001b[43m            \u001b[49m\u001b[43mnewline\u001b[49m\u001b[38;5;241;43m=\u001b[39;49m\u001b[38;5;124;43m\"\u001b[39;49m\u001b[38;5;124;43m\"\u001b[39;49m\u001b[43m,\u001b[49m\n\u001b[0;32m    869\u001b[0m \u001b[43m        \u001b[49m\u001b[43m)\u001b[49m\n\u001b[0;32m    870\u001b[0m     \u001b[38;5;28;01melse\u001b[39;00m:\n\u001b[0;32m    871\u001b[0m         \u001b[38;5;66;03m# Binary mode\u001b[39;00m\n\u001b[0;32m    872\u001b[0m         handle \u001b[38;5;241m=\u001b[39m \u001b[38;5;28mopen\u001b[39m(handle, ioargs\u001b[38;5;241m.\u001b[39mmode)\n",
      "\u001b[1;31mFileNotFoundError\u001b[0m: [Errno 2] No such file or directory: 'final_co2.csv'"
     ]
    }
   ],
   "source": [
    "data = pd.read_csv(\"../input/co2-emission-by-vehicles/CO2 Emissions_Canada.csv\")\n",
    "\n",
    "data.head()"
   ]
  },
  {
   "cell_type": "code",
   "execution_count": null,
   "id": "12bd4239",
   "metadata": {
    "papermill": {
     "duration": 0.228975,
     "end_time": "2022-04-29T12:21:47.961946",
     "exception": false,
     "start_time": "2022-04-29T12:21:47.732971",
     "status": "completed"
    },
    "tags": []
   },
   "outputs": [],
   "source": [
    "data.info()"
   ]
  },
  {
   "cell_type": "markdown",
   "id": "b7e17e4e",
   "metadata": {
    "papermill": {
     "duration": 0.196727,
     "end_time": "2022-04-29T12:21:48.357490",
     "exception": false,
     "start_time": "2022-04-29T12:21:48.160763",
     "status": "completed"
    },
    "tags": []
   },
   "source": [
    "# 4. Exploratory Data Analysis <a id='data_preparation'></a>"
   ]
  },
  {
   "cell_type": "markdown",
   "id": "221c134e",
   "metadata": {
    "papermill": {
     "duration": 0.198532,
     "end_time": "2022-04-29T12:21:48.755232",
     "exception": false,
     "start_time": "2022-04-29T12:21:48.556700",
     "status": "completed"
    },
    "tags": []
   },
   "source": [
    "## 4.1 Preparing the Dataset <a id='Data_Preparing'></a>"
   ]
  },
  {
   "cell_type": "markdown",
   "id": "ebdb21a7",
   "metadata": {
    "papermill": {
     "duration": 0.19645,
     "end_time": "2022-04-29T12:21:49.147039",
     "exception": false,
     "start_time": "2022-04-29T12:21:48.950589",
     "status": "completed"
    },
    "tags": []
   },
   "source": [
    "**Renaming Columns**"
   ]
  },
  {
   "cell_type": "code",
   "execution_count": null,
   "id": "c50f330f",
   "metadata": {
    "papermill": {
     "duration": 0.206543,
     "end_time": "2022-04-29T12:21:49.549680",
     "exception": false,
     "start_time": "2022-04-29T12:21:49.343137",
     "status": "completed"
    },
    "tags": []
   },
   "outputs": [],
   "source": [
    "data = data.rename(columns={\n",
    "    'Vehicle Class': 'Vehicle_Class',\n",
    "    'Engine Size(L)': 'Engine_Size',\n",
    "    'Fuel Type': 'Fuel_Type', \n",
    "    'Fuel Consumption City (L/100 km)': 'Fuel_Consumption_City',\n",
    "    'Fuel Consumption Hwy (L/100 km)': 'Fuel_Consumption_Hwy',\n",
    "    'Fuel Consumption Comb (L/100 km)': 'Fuel_Consumption_Comb',\n",
    "    'Fuel Consumption Comb (mpg)': 'Fuel_Consumption_Comb1',\n",
    "    'CO2 Emissions(g/km)': 'CO2_Emissions'    \n",
    "})"
   ]
  },
  {
   "cell_type": "markdown",
   "id": "e4531994",
   "metadata": {
    "papermill": {
     "duration": 0.195338,
     "end_time": "2022-04-29T12:21:49.962620",
     "exception": false,
     "start_time": "2022-04-29T12:21:49.767282",
     "status": "completed"
    },
    "tags": []
   },
   "source": [
    "### 4.1.1 Data Dimensions <a id='Data_Shape'></a>"
   ]
  },
  {
   "cell_type": "code",
   "execution_count": null,
   "id": "f7d77110",
   "metadata": {
    "papermill": {
     "duration": 0.203092,
     "end_time": "2022-04-29T12:21:50.361696",
     "exception": false,
     "start_time": "2022-04-29T12:21:50.158604",
     "status": "completed"
    },
    "tags": []
   },
   "outputs": [],
   "source": [
    "data.shape"
   ]
  },
  {
   "cell_type": "markdown",
   "id": "8c758f00",
   "metadata": {
    "papermill": {
     "duration": 0.194506,
     "end_time": "2022-04-29T12:21:50.751006",
     "exception": false,
     "start_time": "2022-04-29T12:21:50.556500",
     "status": "completed"
    },
    "tags": []
   },
   "source": [
    "In this dataset we have 7384 records across 12 features"
   ]
  },
  {
   "cell_type": "markdown",
   "id": "d9b86d88",
   "metadata": {
    "papermill": {
     "duration": 0.199484,
     "end_time": "2022-04-29T12:21:51.148475",
     "exception": false,
     "start_time": "2022-04-29T12:21:50.948991",
     "status": "completed"
    },
    "tags": []
   },
   "source": [
    "### 4.1.2 Data Types <a id='Data_Types'></a>"
   ]
  },
  {
   "cell_type": "code",
   "execution_count": null,
   "id": "268da38b",
   "metadata": {
    "papermill": {
     "duration": 0.206482,
     "end_time": "2022-04-29T12:21:51.553514",
     "exception": false,
     "start_time": "2022-04-29T12:21:51.347032",
     "status": "completed"
    },
    "tags": []
   },
   "outputs": [],
   "source": [
    "data.dtypes"
   ]
  },
  {
   "cell_type": "markdown",
   "id": "c22bcadd",
   "metadata": {
    "papermill": {
     "duration": 0.196904,
     "end_time": "2022-04-29T12:21:51.947464",
     "exception": false,
     "start_time": "2022-04-29T12:21:51.750560",
     "status": "completed"
    },
    "tags": []
   },
   "source": [
    "The dataset contains **5 object columns, 3 int column and 4 float columns**"
   ]
  },
  {
   "cell_type": "markdown",
   "id": "6b11058d",
   "metadata": {
    "papermill": {
     "duration": 0.195724,
     "end_time": "2022-04-29T12:21:52.342655",
     "exception": false,
     "start_time": "2022-04-29T12:21:52.146931",
     "status": "completed"
    },
    "tags": []
   },
   "source": [
    "### 4.1.3 Missing Values <a id='Missing_Values'></a>"
   ]
  },
  {
   "cell_type": "code",
   "execution_count": null,
   "id": "ef4dc849",
   "metadata": {
    "papermill": {
     "duration": 0.218128,
     "end_time": "2022-04-29T12:21:52.759185",
     "exception": false,
     "start_time": "2022-04-29T12:21:52.541057",
     "status": "completed"
    },
    "tags": []
   },
   "outputs": [],
   "source": [
    "missing_value = pd.DataFrame({\n",
    "    'Missing Value': data.isnull().sum(),\n",
    "    'Percentage': (data.isnull().sum() / len(data))*100\n",
    "})"
   ]
  },
  {
   "cell_type": "code",
   "execution_count": null,
   "id": "9f9e4b8c",
   "metadata": {
    "papermill": {
     "duration": 0.214672,
     "end_time": "2022-04-29T12:21:53.173324",
     "exception": false,
     "start_time": "2022-04-29T12:21:52.958652",
     "status": "completed"
    },
    "tags": []
   },
   "outputs": [],
   "source": [
    "missing_value.sort_values(by='Percentage', ascending=False)"
   ]
  },
  {
   "cell_type": "markdown",
   "id": "8d03f183",
   "metadata": {
    "papermill": {
     "duration": 0.197195,
     "end_time": "2022-04-29T12:21:53.567696",
     "exception": false,
     "start_time": "2022-04-29T12:21:53.370501",
     "status": "completed"
    },
    "tags": []
   },
   "source": [
    "There are **no missing values** present in this dataset"
   ]
  },
  {
   "cell_type": "markdown",
   "id": "1fffe3f9",
   "metadata": {
    "papermill": {
     "duration": 0.202248,
     "end_time": "2022-04-29T12:21:53.967900",
     "exception": false,
     "start_time": "2022-04-29T12:21:53.765652",
     "status": "completed"
    },
    "tags": []
   },
   "source": [
    "### 4.1.4 Duplicate Data <a id='duplicate'></a>"
   ]
  },
  {
   "cell_type": "code",
   "execution_count": null,
   "id": "d32f3abf",
   "metadata": {
    "papermill": {
     "duration": 0.215576,
     "end_time": "2022-04-29T12:21:54.381978",
     "exception": false,
     "start_time": "2022-04-29T12:21:54.166402",
     "status": "completed"
    },
    "tags": []
   },
   "outputs": [],
   "source": [
    "duplicate = data.duplicated().sum()\n",
    "print('There are {} duplicated rows in the data'.format(duplicate))"
   ]
  },
  {
   "cell_type": "code",
   "execution_count": null,
   "id": "910d167f",
   "metadata": {
    "papermill": {
     "duration": 0.211056,
     "end_time": "2022-04-29T12:21:54.790290",
     "exception": false,
     "start_time": "2022-04-29T12:21:54.579234",
     "status": "completed"
    },
    "tags": []
   },
   "outputs": [],
   "source": [
    "data.drop_duplicates(inplace=True)"
   ]
  },
  {
   "cell_type": "code",
   "execution_count": null,
   "id": "6fb545c6",
   "metadata": {
    "papermill": {
     "duration": 0.20647,
     "end_time": "2022-04-29T12:21:55.194286",
     "exception": false,
     "start_time": "2022-04-29T12:21:54.987816",
     "status": "completed"
    },
    "tags": []
   },
   "outputs": [],
   "source": [
    "data.reset_index(inplace=True, drop=True)"
   ]
  },
  {
   "cell_type": "markdown",
   "id": "6ff3bb78",
   "metadata": {
    "papermill": {
     "duration": 0.196942,
     "end_time": "2022-04-29T12:21:55.587823",
     "exception": false,
     "start_time": "2022-04-29T12:21:55.390881",
     "status": "completed"
    },
    "tags": []
   },
   "source": [
    "Now, the dataset has **6281 records and 12 features with no missing and duplicate values**"
   ]
  },
  {
   "cell_type": "markdown",
   "id": "0b2c7400",
   "metadata": {
    "papermill": {
     "duration": 0.199233,
     "end_time": "2022-04-29T12:21:55.987287",
     "exception": false,
     "start_time": "2022-04-29T12:21:55.788054",
     "status": "completed"
    },
    "tags": []
   },
   "source": [
    "## 4.2  Data Understanding <a id='Data_Understanding'></a>"
   ]
  },
  {
   "cell_type": "markdown",
   "id": "b4bf67c2",
   "metadata": {
    "papermill": {
     "duration": 0.288736,
     "end_time": "2022-04-29T12:21:56.476450",
     "exception": false,
     "start_time": "2022-04-29T12:21:56.187714",
     "status": "completed"
    },
    "tags": []
   },
   "source": [
    "### 4.2.1 Summary Statistics <a id='Summary_Statistics'></a>"
   ]
  },
  {
   "cell_type": "code",
   "execution_count": null,
   "id": "857802e0",
   "metadata": {
    "papermill": {
     "duration": 0.234018,
     "end_time": "2022-04-29T12:21:56.907823",
     "exception": false,
     "start_time": "2022-04-29T12:21:56.673805",
     "status": "completed"
    },
    "tags": []
   },
   "outputs": [],
   "source": [
    "data.describe(include=np.number)"
   ]
  },
  {
   "cell_type": "markdown",
   "id": "8064fb04",
   "metadata": {
    "papermill": {
     "duration": 0.198862,
     "end_time": "2022-04-29T12:21:57.307405",
     "exception": false,
     "start_time": "2022-04-29T12:21:57.108543",
     "status": "completed"
    },
    "tags": []
   },
   "source": [
    "1. The average amount of CO2 emitted from cars is 251 g/km\n",
    "2. Atleast 4 Litres of fuel is consumed be it the car is on city roads or highway\n",
    "3. About 75% of the cars have 6 or less cylinders\n",
    "4. The amount of fuel consumed by cars on city roads is comparitvely greater than that of highway"
   ]
  },
  {
   "cell_type": "code",
   "execution_count": null,
   "id": "e46915b2",
   "metadata": {
    "papermill": {
     "duration": 0.25037,
     "end_time": "2022-04-29T12:21:57.756460",
     "exception": false,
     "start_time": "2022-04-29T12:21:57.506090",
     "status": "completed"
    },
    "tags": []
   },
   "outputs": [],
   "source": [
    "data.describe(include = object)"
   ]
  },
  {
   "cell_type": "markdown",
   "id": "73a5d466",
   "metadata": {
    "papermill": {
     "duration": 0.201716,
     "end_time": "2022-04-29T12:21:58.156652",
     "exception": false,
     "start_time": "2022-04-29T12:21:57.954936",
     "status": "completed"
    },
    "tags": []
   },
   "source": [
    "1. There are a total of 42 different car companies with 2053 different car models\n",
    "2. Vehicles are divided into 16 different classes with SUV-Small vehicles frequenting the most\n",
    "3. 4 different types of fuels used by cars have been identified and fuel X seems to be the most famous\n",
    "4. Most of the cars have AS6 transmission"
   ]
  },
  {
   "cell_type": "markdown",
   "id": "79787ed0",
   "metadata": {
    "papermill": {
     "duration": 0.200515,
     "end_time": "2022-04-29T12:21:58.556614",
     "exception": false,
     "start_time": "2022-04-29T12:21:58.356099",
     "status": "completed"
    },
    "tags": []
   },
   "source": [
    "### 4.2.2 Correlation <a id='correlation'></a>"
   ]
  },
  {
   "cell_type": "code",
   "execution_count": null,
   "id": "b63f5563",
   "metadata": {
    "papermill": {
     "duration": 0.22718,
     "end_time": "2022-04-29T12:21:58.983971",
     "exception": false,
     "start_time": "2022-04-29T12:21:58.756791",
     "status": "completed"
    },
    "tags": []
   },
   "outputs": [],
   "source": [
    "data_num_features = data.select_dtypes(include=np.number)\n",
    "\n",
    "print('The numerical columns in the dataset are: ',data_num_features.columns)"
   ]
  },
  {
   "cell_type": "code",
   "execution_count": null,
   "id": "60ccbbe4",
   "metadata": {
    "papermill": {
     "duration": 0.824178,
     "end_time": "2022-04-29T12:22:00.035279",
     "exception": false,
     "start_time": "2022-04-29T12:21:59.211101",
     "status": "completed"
    },
    "tags": []
   },
   "outputs": [],
   "source": [
    "plt.figure(figsize=(20,10))\n",
    "\n",
    "corr =  data_num_features.corr()\n",
    "\n",
    "corr =data_num_features.corr(method='pearson')\n",
    "sns.heatmap(corr, annot=True,cmap='tab20c')\n",
    "plt.show()"
   ]
  },
  {
   "cell_type": "markdown",
   "id": "aa203742",
   "metadata": {
    "papermill": {
     "duration": 0.198661,
     "end_time": "2022-04-29T12:22:00.436755",
     "exception": false,
     "start_time": "2022-04-29T12:22:00.238094",
     "status": "completed"
    },
    "tags": []
   },
   "source": [
    "1. Fuel_Consumption_Comb1 has a high negative correaltion(<-0.9) with CO2_Emissions, Fuel_Consumption_Comb and Fuel_Consumption_City\n",
    "2. CO2_Emissions has high positive correlation(>0.9) with Fuel_Consumption_Comb and Fuel_Consumption_City"
   ]
  },
  {
   "cell_type": "markdown",
   "id": "448545bd",
   "metadata": {
    "papermill": {
     "duration": 0.225398,
     "end_time": "2022-04-29T12:22:00.862369",
     "exception": false,
     "start_time": "2022-04-29T12:22:00.636971",
     "status": "completed"
    },
    "tags": []
   },
   "source": [
    "### 4.2.3 Analyse Categorical Variables <a id='analyze_cat_var'></a>"
   ]
  },
  {
   "cell_type": "code",
   "execution_count": null,
   "id": "d1db26d6",
   "metadata": {
    "papermill": {
     "duration": 0.21771,
     "end_time": "2022-04-29T12:22:01.279799",
     "exception": false,
     "start_time": "2022-04-29T12:22:01.062089",
     "status": "completed"
    },
    "tags": []
   },
   "outputs": [],
   "source": [
    "data_cat_features = data.select_dtypes(include='object')\n",
    "data_cat_features1 = data_cat_features[['Vehicle_Class', 'Transmission', 'Fuel_Type', 'Model','Make']]"
   ]
  },
  {
   "cell_type": "code",
   "execution_count": null,
   "id": "07a83eed",
   "metadata": {
    "papermill": {
     "duration": 1.48193,
     "end_time": "2022-04-29T12:22:02.963481",
     "exception": false,
     "start_time": "2022-04-29T12:22:01.481551",
     "status": "completed"
    },
    "tags": []
   },
   "outputs": [],
   "source": [
    "fig,ax= plt.subplots(nrows=2,ncols=3,figsize=(26, 10)) \n",
    "\n",
    "for variable, subplot in zip(data_cat_features1.columns,ax.flatten()):\n",
    "    cat_count  = data[variable].value_counts()\n",
    "    cat_count10 = cat_count[:10,]\n",
    "    z = sns.barplot(cat_count10.values,cat_count10.index, alpha=0.8, ax=subplot)\n",
    "    if cat_count.size > 10:\n",
    "        z.set_title('Top 10 {}'.format(variable))\n",
    "    else:\n",
    "        z.set_title(variable)\n",
    "    z.set_xlabel('Number of Cars', fontsize=9)\n",
    "    \n",
    "fig.delaxes(ax[1][2])"
   ]
  },
  {
   "cell_type": "markdown",
   "id": "8378f31e",
   "metadata": {
    "papermill": {
     "duration": 0.201721,
     "end_time": "2022-04-29T12:22:03.370576",
     "exception": false,
     "start_time": "2022-04-29T12:22:03.168855",
     "status": "completed"
    },
    "tags": []
   },
   "source": [
    "1. Top 10 Make: Most of the cars on Canadian roads are made by Ford\n",
    "2. Top 10 Model: The F-150 FFV is amongst the most famous models driven in Canada\n",
    "3. Top 10 Vehicle_Class: SUV-Small is the preferred class of vehicle amongst the Canadians\n",
    "4. Top 10 Transmission: More than 1000 cars have AS6 and AS8 transmission types\n",
    "5. Fuel Type: Majority of the cars in Canada use Fuel type X and Z"
   ]
  },
  {
   "cell_type": "markdown",
   "id": "5b0da922",
   "metadata": {
    "papermill": {
     "duration": 0.202285,
     "end_time": "2022-04-29T12:22:03.776384",
     "exception": false,
     "start_time": "2022-04-29T12:22:03.574099",
     "status": "completed"
    },
    "tags": []
   },
   "source": [
    "### 4.2.4 Analyse Target Variable <a id='analyze_tar_var'></a>"
   ]
  },
  {
   "cell_type": "code",
   "execution_count": null,
   "id": "f3e8c92b",
   "metadata": {
    "papermill": {
     "duration": 0.477784,
     "end_time": "2022-04-29T12:22:04.460245",
     "exception": false,
     "start_time": "2022-04-29T12:22:03.982461",
     "status": "completed"
    },
    "tags": []
   },
   "outputs": [],
   "source": [
    "sns.distplot(data['CO2_Emissions'], bins=30, kde=True, axlabel='Carbon Dioxide Emission (30 bins)')\n",
    "plt.show()"
   ]
  },
  {
   "cell_type": "markdown",
   "id": "252cc8ff",
   "metadata": {
    "papermill": {
     "duration": 0.204084,
     "end_time": "2022-04-29T12:22:04.870522",
     "exception": false,
     "start_time": "2022-04-29T12:22:04.666438",
     "status": "completed"
    },
    "tags": []
   },
   "source": [
    "From the above histogram, we can see that CO2_Emissions is moderately positive skewed"
   ]
  },
  {
   "cell_type": "code",
   "execution_count": null,
   "id": "370489bc",
   "metadata": {
    "papermill": {
     "duration": 0.217268,
     "end_time": "2022-04-29T12:22:05.297864",
     "exception": false,
     "start_time": "2022-04-29T12:22:05.080596",
     "status": "completed"
    },
    "tags": []
   },
   "outputs": [],
   "source": [
    "mean = data['CO2_Emissions'].mean()\n",
    "mode = data['CO2_Emissions'].mode()\n",
    "median = data['CO2_Emissions'].median()\n",
    "\n",
    "print(f'Mean for CO2 Emission is {mean}')\n",
    "print(f'Median for CO2 Emission is {median}')\n",
    "print(f'Mode for CO2 Emission is {mode}')"
   ]
  },
  {
   "cell_type": "code",
   "execution_count": null,
   "id": "fc6e9420",
   "metadata": {
    "papermill": {
     "duration": 0.515509,
     "end_time": "2022-04-29T12:22:06.023296",
     "exception": false,
     "start_time": "2022-04-29T12:22:05.507787",
     "status": "completed"
    },
    "tags": []
   },
   "outputs": [],
   "source": [
    "fig, axes = plt.subplots(1,3, sharey=True, figsize=(15,8))\n",
    "sns.boxplot(y=data['CO2_Emissions'], orient=\"v\", ax = axes[0])\n",
    "sns.violinplot(y=data['CO2_Emissions'], orient=\"v\", ax = axes[1]);\n",
    "plt.text(0.1, 200, \"Mode = 221/246\", fontsize=12)\n",
    "plt.text(0.1, 300, \"Median = 246\", fontsize=12)\n",
    "plt.text(0.1, 400, \"Mean = 251.16\", fontsize=12)\n",
    "plt.text(0.1, 100, \"Mode < Median < Mean\", fontsize=12)\n",
    "plt.axis(\"off\")\n",
    "plt.show()"
   ]
  },
  {
   "cell_type": "markdown",
   "id": "76d89ad1",
   "metadata": {
    "papermill": {
     "duration": 0.212677,
     "end_time": "2022-04-29T12:22:06.442513",
     "exception": false,
     "start_time": "2022-04-29T12:22:06.229836",
     "status": "completed"
    },
    "tags": []
   },
   "source": [
    "Of all the three statistics, the mean is the largest, while the mode is the smallest thus CO2_Emissions is positively skewed which implies that most of the CO2 Emissions are less than the average CO2 Emissions."
   ]
  },
  {
   "cell_type": "markdown",
   "id": "b3e79b81",
   "metadata": {
    "papermill": {
     "duration": 0.205795,
     "end_time": "2022-04-29T12:22:06.855472",
     "exception": false,
     "start_time": "2022-04-29T12:22:06.649677",
     "status": "completed"
    },
    "tags": []
   },
   "source": [
    "### 4.2.5 Analyse Relationship between Target and Independent Variables <a id='analyze_tar_ind_var'></a>"
   ]
  },
  {
   "cell_type": "code",
   "execution_count": null,
   "id": "a6616c96",
   "metadata": {
    "papermill": {
     "duration": 0.228865,
     "end_time": "2022-04-29T12:22:07.291846",
     "exception": false,
     "start_time": "2022-04-29T12:22:07.062981",
     "status": "completed"
    },
    "tags": []
   },
   "outputs": [],
   "source": [
    "make_co2 = data.groupby('Make')['CO2_Emissions'].mean().sort_values(ascending=False).head(10)\n",
    "model_co2 = data.groupby('Model')['CO2_Emissions'].mean().sort_values(ascending=False).head(10)\n",
    "vehicle_class_co2 = data.groupby('Vehicle_Class')['CO2_Emissions'].mean().sort_values(ascending=False).head(10)\n",
    "transmission_co2 = data.groupby('Transmission')['CO2_Emissions'].mean().sort_values(ascending=False).head(10)\n",
    "fuel_type_co2 = data.groupby('Fuel_Type')['CO2_Emissions'].mean().sort_values(ascending=False).head()"
   ]
  },
  {
   "cell_type": "code",
   "execution_count": null,
   "id": "7ac84fba",
   "metadata": {
    "papermill": {
     "duration": 1.232467,
     "end_time": "2022-04-29T12:22:08.731617",
     "exception": false,
     "start_time": "2022-04-29T12:22:07.499150",
     "status": "completed"
    },
    "tags": []
   },
   "outputs": [],
   "source": [
    "fig, axes = plt.subplots(3,2, figsize=(25,20))\n",
    "fig.suptitle('Average of Categorical Variables vs CO2 Emissions', size=20)\n",
    "\n",
    "sns.barplot(ax=axes[0][0],x = make_co2.values,y = make_co2.index)\n",
    "axes[0][0].set_title('CO2 Emissions v/s Make')\n",
    "\n",
    "sns.barplot(ax=axes[0][1],x = transmission_co2.values,y = transmission_co2.index)\n",
    "axes[0][1].set_title('CO2 Emissions v/s Transmission')\n",
    "\n",
    "sns.barplot(ax=axes[1][0],x = vehicle_class_co2.values,y = vehicle_class_co2.index)\n",
    "axes[1][0].set_title('CO2 Emissions v/s Vehicle_Class')\n",
    "\n",
    "sns.barplot(ax=axes[1][1], x=fuel_type_co2.values,y=fuel_type_co2.index)\n",
    "axes[1][1].set_title('CO2 Emissions v/s Fuel Type')\n",
    "\n",
    "sns.barplot(ax=axes[2][0],x = model_co2.values,y = model_co2.index)\n",
    "axes[2][0].set_title('CO2 Emissions v/s Model')\n",
    "\n",
    "\n",
    "fig.delaxes(axes[2][1])\n",
    "plt.show()"
   ]
  },
  {
   "cell_type": "markdown",
   "id": "5fb34ef0",
   "metadata": {
    "papermill": {
     "duration": 0.213481,
     "end_time": "2022-04-29T12:22:09.154324",
     "exception": false,
     "start_time": "2022-04-29T12:22:08.940843",
     "status": "completed"
    },
    "tags": []
   },
   "source": [
    "1. CO2 Emissions v/s Make: While Ford cars are mainly found on the roads of Canada , its Bugatti that emit the most CO2 per car\n",
    "2. CO2 Emissions v/s Model: Bugatti Chiron is amongst the most CO2 emitting car model\n",
    "3. CO2 Emissions v/s Vehicle_Class: Most of the heavy vehicles like Vans , SUV and Pick-up truck are amongst the top few emitters of CO2\n",
    "4. CO2 Emissions v/s Transmission: Most of the cars with automatic transmission emit CO2\n",
    "5. CO2 Emissions v/s Fuel_Type: Cars using Fuel Type E are emitting the most CO2"
   ]
  },
  {
   "cell_type": "markdown",
   "id": "24208a17",
   "metadata": {
    "papermill": {
     "duration": 0.210761,
     "end_time": "2022-04-29T12:22:09.577242",
     "exception": false,
     "start_time": "2022-04-29T12:22:09.366481",
     "status": "completed"
    },
    "tags": []
   },
   "source": [
    "**Relationship between Cylinders and CO2 Emissions**"
   ]
  },
  {
   "cell_type": "code",
   "execution_count": null,
   "id": "6f3d9e74",
   "metadata": {
    "papermill": {
     "duration": 0.725606,
     "end_time": "2022-04-29T12:22:10.513404",
     "exception": false,
     "start_time": "2022-04-29T12:22:09.787798",
     "status": "completed"
    },
    "tags": []
   },
   "outputs": [],
   "source": [
    "plt.rcParams[\"figure.figsize\"] = (15,10)\n",
    "sns.scatterplot('CO2_Emissions','Cylinders',data = data,hue='Fuel_Type')\n",
    "plt.xlabel(\"CO2 Emissions\", fontsize=10)\n",
    "plt.ylabel(\"Cylinders\", fontsize=10)\n",
    "plt.show()"
   ]
  },
  {
   "cell_type": "markdown",
   "id": "1684c72c",
   "metadata": {
    "papermill": {
     "duration": 0.207131,
     "end_time": "2022-04-29T12:22:10.933685",
     "exception": false,
     "start_time": "2022-04-29T12:22:10.726554",
     "status": "completed"
    },
    "tags": []
   },
   "source": [
    "From the above scatter plot we can see that:\n",
    "1. As the number of cylinders increase, the CO2 emissions increase\n",
    "2. Cars with 8 and less than 8 cylinders prefer using Fuel Type X which result in less emissions of CO2\n",
    "3. Fuel Type Z results in more CO2 emissions than the other"
   ]
  },
  {
   "cell_type": "code",
   "execution_count": null,
   "id": "bf1ec913",
   "metadata": {
    "papermill": {
     "duration": 30.72621,
     "end_time": "2022-04-29T12:22:41.869312",
     "exception": false,
     "start_time": "2022-04-29T12:22:11.143102",
     "status": "completed"
    },
    "tags": []
   },
   "outputs": [],
   "source": [
    "plt.figure(figsize=(10,5))\n",
    "sns.pairplot(data,kind=\"reg\")\n",
    "plt.show()"
   ]
  },
  {
   "cell_type": "markdown",
   "id": "2d634c32",
   "metadata": {
    "papermill": {
     "duration": 0.217186,
     "end_time": "2022-04-29T12:22:42.305206",
     "exception": false,
     "start_time": "2022-04-29T12:22:42.088020",
     "status": "completed"
    },
    "tags": []
   },
   "source": [
    "1. Fuel_Consumption_Comb1 shows a negative relation with all the other numerical variables\n",
    "2. Fuel_Consumption_City and Fuel_Consumption_Hwy are strongly postively related"
   ]
  },
  {
   "cell_type": "markdown",
   "id": "a7d85d87",
   "metadata": {
    "papermill": {
     "duration": 0.217168,
     "end_time": "2022-04-29T12:22:42.739395",
     "exception": false,
     "start_time": "2022-04-29T12:22:42.522227",
     "status": "completed"
    },
    "tags": []
   },
   "source": [
    "### 4.2.6 Feature Engineering <a id='feature_eng'></a>"
   ]
  },
  {
   "cell_type": "markdown",
   "id": "5b281293",
   "metadata": {
    "papermill": {
     "duration": 0.219429,
     "end_time": "2022-04-29T12:22:43.175073",
     "exception": false,
     "start_time": "2022-04-29T12:22:42.955644",
     "status": "completed"
    },
    "tags": []
   },
   "source": [
    "Create a new feature Make_Type by combining various car companies(Make) on the basis of their functionality\n",
    "<br>\n",
    "There are 42 unique Car Companies. We will divide these companies into Luxury, Sports, Premium and General cars"
   ]
  },
  {
   "cell_type": "code",
   "execution_count": null,
   "id": "7253151f",
   "metadata": {
    "papermill": {
     "duration": 0.253773,
     "end_time": "2022-04-29T12:22:43.645698",
     "exception": false,
     "start_time": "2022-04-29T12:22:43.391925",
     "status": "completed"
    },
    "tags": []
   },
   "outputs": [],
   "source": [
    "data['Make_Type'] = data['Make'].replace(['BUGATTI', 'PORSCHE', 'MASERATI', 'ASTON MARTIN', 'LAMBORGHINI', 'JAGUAR','SRT'], 'Sports')\n",
    "data['Make_Type'] = data['Make_Type'].replace(['ALFA ROMEO', 'AUDI', 'BMW', 'BUICK', 'CADILLAC', 'CHRYSLER', 'DODGE', 'GMC','INFINITI', 'JEEP', 'LAND ROVER', 'LEXUS', 'MERCEDES-BENZ','MINI', 'SMART', 'VOLVO'],'Premium')\n",
    "data['Make_Type'] = data['Make_Type'].replace(['ACURA', 'BENTLEY', 'LINCOLN', 'ROLLS-ROYCE',  'GENESIS'], 'Luxury')\n",
    "data['Make_Type'] = data['Make_Type'].replace(['CHEVROLET', 'FIAT', 'FORD', 'KIA', 'HONDA', 'HYUNDAI', 'MAZDA', 'MITSUBISHI','NISSAN', 'RAM', 'SCION', 'SUBARU', 'TOYOTA','VOLKSWAGEN'],'General')"
   ]
  },
  {
   "cell_type": "code",
   "execution_count": null,
   "id": "1f4b092e",
   "metadata": {
    "papermill": {
     "duration": 0.235491,
     "end_time": "2022-04-29T12:22:44.099948",
     "exception": false,
     "start_time": "2022-04-29T12:22:43.864457",
     "status": "completed"
    },
    "tags": []
   },
   "outputs": [],
   "source": [
    "data.drop(['Make'], inplace=True, axis=1)\n",
    "\n",
    "data['Make_Type'].unique()"
   ]
  },
  {
   "cell_type": "code",
   "execution_count": null,
   "id": "2f98a1a2",
   "metadata": {
    "papermill": {
     "duration": 0.229993,
     "end_time": "2022-04-29T12:22:44.550864",
     "exception": false,
     "start_time": "2022-04-29T12:22:44.320871",
     "status": "completed"
    },
    "tags": []
   },
   "outputs": [],
   "source": [
    "data['Make_Type'].value_counts()"
   ]
  },
  {
   "cell_type": "code",
   "execution_count": null,
   "id": "986e3eb7",
   "metadata": {
    "papermill": {
     "duration": 0.45478,
     "end_time": "2022-04-29T12:22:45.243062",
     "exception": false,
     "start_time": "2022-04-29T12:22:44.788282",
     "status": "completed"
    },
    "tags": []
   },
   "outputs": [],
   "source": [
    "plt.figure(figsize=(15,8))\n",
    "ax = sns.boxplot(x=\"Make_Type\", y=\"CO2_Emissions\", data=data)\n",
    "ax.set_xticklabels(labels=ax.get_xticklabels(), rotation=90)\n",
    "plt.show()"
   ]
  },
  {
   "cell_type": "markdown",
   "id": "b2646d7a",
   "metadata": {
    "papermill": {
     "duration": 0.22361,
     "end_time": "2022-04-29T12:22:45.689208",
     "exception": false,
     "start_time": "2022-04-29T12:22:45.465598",
     "status": "completed"
    },
    "tags": []
   },
   "source": [
    "The plot shows that Sports cars and Luxury cars emit more CO2 compared to Premium and General use cars"
   ]
  },
  {
   "cell_type": "markdown",
   "id": "aa99ca2d",
   "metadata": {
    "papermill": {
     "duration": 0.218141,
     "end_time": "2022-04-29T12:22:46.128258",
     "exception": false,
     "start_time": "2022-04-29T12:22:45.910117",
     "status": "completed"
    },
    "tags": []
   },
   "source": [
    "Create a new feature Vehicle_Class_Type by combining various Vehicle_Class on the basis of their size\n",
    "<br>\n",
    "There are 16 unique Vehicle Classes. We will divide them into Hatchback, Sedan, SUV and Truck"
   ]
  },
  {
   "cell_type": "code",
   "execution_count": null,
   "id": "2cd5c77d",
   "metadata": {
    "papermill": {
     "duration": 0.241331,
     "end_time": "2022-04-29T12:22:46.590459",
     "exception": false,
     "start_time": "2022-04-29T12:22:46.349128",
     "status": "completed"
    },
    "tags": []
   },
   "outputs": [],
   "source": [
    "data['Vehicle_Class_Type'] = data['Vehicle_Class'].replace(['COMPACT', 'MINICOMPACT', 'SUBCOMPACT'], 'Hatchback')\n",
    "data['Vehicle_Class_Type'] = data['Vehicle_Class_Type'].replace(['MID-SIZE', 'TWO-SEATER', 'FULL-SIZE', 'STATION WAGON - SMALL', 'STATION WAGON - MID-SIZE'],'Sedan')\n",
    "data['Vehicle_Class_Type'] = data['Vehicle_Class_Type'].replace(['SUV - SMALL', 'SUV - STANDARD', 'MINIVAN'],  'SUV')\n",
    "data['Vehicle_Class_Type'] = data['Vehicle_Class_Type'].replace(['VAN - CARGO', 'VAN - PASSENGER', 'PICKUP TRUCK - STANDARD', 'SPECIAL PURPOSE VEHICLE', 'PICKUP TRUCK - SMALL'], 'Truck')"
   ]
  },
  {
   "cell_type": "code",
   "execution_count": null,
   "id": "dde260aa",
   "metadata": {
    "papermill": {
     "duration": 0.235527,
     "end_time": "2022-04-29T12:22:47.047095",
     "exception": false,
     "start_time": "2022-04-29T12:22:46.811568",
     "status": "completed"
    },
    "tags": []
   },
   "outputs": [],
   "source": [
    "data.drop(['Vehicle_Class'], inplace=True,  axis=1)\n",
    "\n",
    "data['Vehicle_Class_Type'].unique()"
   ]
  },
  {
   "cell_type": "code",
   "execution_count": null,
   "id": "747a0903",
   "metadata": {
    "papermill": {
     "duration": 0.456157,
     "end_time": "2022-04-29T12:22:47.731028",
     "exception": false,
     "start_time": "2022-04-29T12:22:47.274871",
     "status": "completed"
    },
    "tags": []
   },
   "outputs": [],
   "source": [
    "plt.figure(figsize=(15,8))\n",
    "ax = sns.boxplot(x=\"Vehicle_Class_Type\", y=\"CO2_Emissions\", data=data)\n",
    "ax.set_xticklabels(labels=ax.get_xticklabels(), rotation=90)\n",
    "plt.show()"
   ]
  },
  {
   "cell_type": "markdown",
   "id": "b581f32b",
   "metadata": {
    "papermill": {
     "duration": 0.225113,
     "end_time": "2022-04-29T12:22:48.179156",
     "exception": false,
     "start_time": "2022-04-29T12:22:47.954043",
     "status": "completed"
    },
    "tags": []
   },
   "source": [
    "The plot shows that the bigger the cars are the more CO2 they emit"
   ]
  },
  {
   "cell_type": "markdown",
   "id": "98ba014c",
   "metadata": {
    "papermill": {
     "duration": 0.221598,
     "end_time": "2022-04-29T12:22:48.623273",
     "exception": false,
     "start_time": "2022-04-29T12:22:48.401675",
     "status": "completed"
    },
    "tags": []
   },
   "source": [
    "# 5. Data Preprocessing <a id='data_pre'></a>"
   ]
  },
  {
   "cell_type": "code",
   "execution_count": null,
   "id": "32cbca07",
   "metadata": {
    "papermill": {
     "duration": 0.231431,
     "end_time": "2022-04-29T12:22:49.076661",
     "exception": false,
     "start_time": "2022-04-29T12:22:48.845230",
     "status": "completed"
    },
    "tags": []
   },
   "outputs": [],
   "source": [
    "data.drop(['Model'],axis=1,inplace=True)"
   ]
  },
  {
   "cell_type": "markdown",
   "id": "bf119078",
   "metadata": {
    "papermill": {
     "duration": 0.220219,
     "end_time": "2022-04-29T12:22:49.515919",
     "exception": false,
     "start_time": "2022-04-29T12:22:49.295700",
     "status": "completed"
    },
    "tags": []
   },
   "source": [
    "Since Model has 2053 unique values and has no significance with respect to CO2 Emissions , we have dropped this column"
   ]
  },
  {
   "cell_type": "markdown",
   "id": "080b32c3",
   "metadata": {
    "papermill": {
     "duration": 0.226222,
     "end_time": "2022-04-29T12:22:49.967994",
     "exception": false,
     "start_time": "2022-04-29T12:22:49.741772",
     "status": "completed"
    },
    "tags": []
   },
   "source": [
    "## 5.1 Outliers <a id='out'></a>"
   ]
  },
  {
   "cell_type": "markdown",
   "id": "2ea984dd",
   "metadata": {
    "papermill": {
     "duration": 0.221071,
     "end_time": "2022-04-29T12:22:50.412306",
     "exception": false,
     "start_time": "2022-04-29T12:22:50.191235",
     "status": "completed"
    },
    "tags": []
   },
   "source": [
    "### 5.1.1 Discovery of Outliers<a id='dis_out'></a>"
   ]
  },
  {
   "cell_type": "code",
   "execution_count": null,
   "id": "c07c2b02",
   "metadata": {
    "papermill": {
     "duration": 0.234254,
     "end_time": "2022-04-29T12:22:50.868310",
     "exception": false,
     "start_time": "2022-04-29T12:22:50.634056",
     "status": "completed"
    },
    "tags": []
   },
   "outputs": [],
   "source": [
    "df_num_features=data.select_dtypes(include=np.number)"
   ]
  },
  {
   "cell_type": "markdown",
   "id": "f5a83d33",
   "metadata": {
    "papermill": {
     "duration": 0.22076,
     "end_time": "2022-04-29T12:22:51.315043",
     "exception": false,
     "start_time": "2022-04-29T12:22:51.094283",
     "status": "completed"
    },
    "tags": []
   },
   "source": [
    "**Identifying outliers using IQR**"
   ]
  },
  {
   "cell_type": "code",
   "execution_count": null,
   "id": "8468f23b",
   "metadata": {
    "papermill": {
     "duration": 0.235636,
     "end_time": "2022-04-29T12:22:51.777608",
     "exception": false,
     "start_time": "2022-04-29T12:22:51.541972",
     "status": "completed"
    },
    "tags": []
   },
   "outputs": [],
   "source": [
    "Q1 = df_num_features.quantile(0.25)\n",
    "Q3 = df_num_features.quantile(0.75)\n",
    "IQR = Q3 - Q1\n",
    "print(IQR)"
   ]
  },
  {
   "cell_type": "code",
   "execution_count": null,
   "id": "76caa025",
   "metadata": {
    "papermill": {
     "duration": 0.24533,
     "end_time": "2022-04-29T12:22:52.246196",
     "exception": false,
     "start_time": "2022-04-29T12:22:52.000866",
     "status": "completed"
    },
    "tags": []
   },
   "outputs": [],
   "source": [
    "outlier = pd.DataFrame((df_num_features < (Q1 - 1.5 * IQR)) | (df_num_features > (Q3 + 1.5 * IQR)))\n",
    "\n",
    "for i in outlier.columns:\n",
    "    print('Total number of Outliers in column {} are {}'.format(i, (len(outlier[outlier[i] == True][i]))))"
   ]
  },
  {
   "cell_type": "markdown",
   "id": "a206fd8d",
   "metadata": {
    "papermill": {
     "duration": 0.223887,
     "end_time": "2022-04-29T12:22:52.698332",
     "exception": false,
     "start_time": "2022-04-29T12:22:52.474445",
     "status": "completed"
    },
    "tags": []
   },
   "source": [
    "**Visualizing outliers using Boxplots**"
   ]
  },
  {
   "cell_type": "code",
   "execution_count": null,
   "id": "524a469f",
   "metadata": {
    "papermill": {
     "duration": 2.274528,
     "end_time": "2022-04-29T12:22:55.196081",
     "exception": false,
     "start_time": "2022-04-29T12:22:52.921553",
     "status": "completed"
    },
    "tags": []
   },
   "outputs": [],
   "source": [
    "for column in enumerate(df_num_features):\n",
    "    plt.figure(figsize=(30,5))\n",
    "    sns.set_theme(style=\"darkgrid\")\n",
    "    sns.boxplot(x=column[1], data=  df_num_features)\n",
    "    plt.xlabel(column[1],fontsize=18)\n",
    "    plt.show()"
   ]
  },
  {
   "cell_type": "markdown",
   "id": "4190b5ae",
   "metadata": {
    "papermill": {
     "duration": 0.235329,
     "end_time": "2022-04-29T12:22:55.663850",
     "exception": false,
     "start_time": "2022-04-29T12:22:55.428521",
     "status": "completed"
    },
    "tags": []
   },
   "source": [
    "### 5.1.2 Removal of Outliers<a id='rem_out'></a>"
   ]
  },
  {
   "cell_type": "markdown",
   "id": "b792fa00",
   "metadata": {
    "papermill": {
     "duration": 0.227622,
     "end_time": "2022-04-29T12:22:56.138452",
     "exception": false,
     "start_time": "2022-04-29T12:22:55.910830",
     "status": "completed"
    },
    "tags": []
   },
   "source": [
    "**Checking the normality of numeric features**"
   ]
  },
  {
   "cell_type": "code",
   "execution_count": null,
   "id": "898c2537",
   "metadata": {
    "papermill": {
     "duration": 0.241979,
     "end_time": "2022-04-29T12:22:56.606664",
     "exception": false,
     "start_time": "2022-04-29T12:22:56.364685",
     "status": "completed"
    },
    "tags": []
   },
   "outputs": [],
   "source": [
    "stat, p_value = shapiro(df_num_features)\n",
    "\n",
    "print('Test statistic:', stat)\n",
    "print('P-Value:', p_value)"
   ]
  },
  {
   "cell_type": "markdown",
   "id": "9fd2140a",
   "metadata": {
    "papermill": {
     "duration": 0.228684,
     "end_time": "2022-04-29T12:22:57.065169",
     "exception": false,
     "start_time": "2022-04-29T12:22:56.836485",
     "status": "completed"
    },
    "tags": []
   },
   "source": [
    "Since the numeric features are not normal we are removing the outliers using IQR method"
   ]
  },
  {
   "cell_type": "code",
   "execution_count": null,
   "id": "6e679aa2",
   "metadata": {
    "papermill": {
     "duration": 0.259879,
     "end_time": "2022-04-29T12:22:57.552347",
     "exception": false,
     "start_time": "2022-04-29T12:22:57.292468",
     "status": "completed"
    },
    "tags": []
   },
   "outputs": [],
   "source": [
    "data = data[~((data < (Q1 - 1.5 * IQR)) |(data > (Q3 + 1.5 * IQR))).any(axis=1)]\n",
    "data.reset_index(inplace=True, drop=True)"
   ]
  },
  {
   "cell_type": "markdown",
   "id": "fcca3411",
   "metadata": {
    "papermill": {
     "duration": 0.227118,
     "end_time": "2022-04-29T12:22:58.006936",
     "exception": false,
     "start_time": "2022-04-29T12:22:57.779818",
     "status": "completed"
    },
    "tags": []
   },
   "source": [
    "### 5.1.3 Re-checking Correlation<a id='rec_cor'></a>"
   ]
  },
  {
   "cell_type": "code",
   "execution_count": null,
   "id": "48fc1cda",
   "metadata": {
    "papermill": {
     "duration": 0.768727,
     "end_time": "2022-04-29T12:22:59.003264",
     "exception": false,
     "start_time": "2022-04-29T12:22:58.234537",
     "status": "completed"
    },
    "tags": []
   },
   "outputs": [],
   "source": [
    "data_num_features = data.select_dtypes(include=np.number)\n",
    "\n",
    "corr =  data_num_features.corr()\n",
    "\n",
    "corr =data_num_features.corr(method='pearson')\n",
    "sns.heatmap(corr, annot=True,cmap='tab20b')\n",
    "plt.show()"
   ]
  },
  {
   "cell_type": "markdown",
   "id": "1c0283d4",
   "metadata": {
    "papermill": {
     "duration": 0.23068,
     "end_time": "2022-04-29T12:22:59.478036",
     "exception": false,
     "start_time": "2022-04-29T12:22:59.247356",
     "status": "completed"
    },
    "tags": []
   },
   "source": [
    "There has been a slight change with respect to the correlation between numeric values"
   ]
  },
  {
   "cell_type": "markdown",
   "id": "f69695a3",
   "metadata": {
    "papermill": {
     "duration": 0.23223,
     "end_time": "2022-04-29T12:22:59.943495",
     "exception": false,
     "start_time": "2022-04-29T12:22:59.711265",
     "status": "completed"
    },
    "tags": []
   },
   "source": [
    "## 5.2 Categorical Encoding<a id='cat_enc'></a>"
   ]
  },
  {
   "cell_type": "code",
   "execution_count": null,
   "id": "393e87cb",
   "metadata": {
    "papermill": {
     "duration": 0.250787,
     "end_time": "2022-04-29T12:23:00.429671",
     "exception": false,
     "start_time": "2022-04-29T12:23:00.178884",
     "status": "completed"
    },
    "tags": []
   },
   "outputs": [],
   "source": [
    "df_dummies = pd.get_dummies(data = data[[\"Fuel_Type\",\"Transmission\",\"Make_Type\",\"Vehicle_Class_Type\"]], drop_first = True)\n",
    "\n",
    "df_num_features=data.select_dtypes(include=np.number)\n",
    "\n",
    "df_comb = pd.concat([df_num_features, df_dummies], axis = 1)"
   ]
  },
  {
   "cell_type": "code",
   "execution_count": null,
   "id": "f6445c5d",
   "metadata": {
    "papermill": {
     "duration": 0.259957,
     "end_time": "2022-04-29T12:23:00.921779",
     "exception": false,
     "start_time": "2022-04-29T12:23:00.661822",
     "status": "completed"
    },
    "tags": []
   },
   "outputs": [],
   "source": [
    "df_comb.head()"
   ]
  },
  {
   "cell_type": "markdown",
   "id": "8f2915e7",
   "metadata": {
    "papermill": {
     "duration": 0.230685,
     "end_time": "2022-04-29T12:23:01.384351",
     "exception": false,
     "start_time": "2022-04-29T12:23:01.153666",
     "status": "completed"
    },
    "tags": []
   },
   "source": [
    "# 6. Multiple Linear Regression Models<a id='bui_mlr_mod'></a>"
   ]
  },
  {
   "cell_type": "code",
   "execution_count": null,
   "id": "ddd7564a",
   "metadata": {
    "papermill": {
     "duration": 0.244771,
     "end_time": "2022-04-29T12:23:01.870261",
     "exception": false,
     "start_time": "2022-04-29T12:23:01.625490",
     "status": "completed"
    },
    "tags": []
   },
   "outputs": [],
   "source": [
    "X = df_comb.drop(['CO2_Emissions'], axis=1)\n",
    "y = df_comb['CO2_Emissions']"
   ]
  },
  {
   "cell_type": "markdown",
   "id": "90a8fb8e",
   "metadata": {
    "papermill": {
     "duration": 0.231018,
     "end_time": "2022-04-29T12:23:02.333641",
     "exception": false,
     "start_time": "2022-04-29T12:23:02.102623",
     "status": "completed"
    },
    "tags": []
   },
   "source": [
    "## 6.1 Multiple Linear Regression - Basic Model<a id='bas_mod'></a>"
   ]
  },
  {
   "cell_type": "code",
   "execution_count": null,
   "id": "bf20cc1e",
   "metadata": {
    "papermill": {
     "duration": 0.248955,
     "end_time": "2022-04-29T12:23:02.814967",
     "exception": false,
     "start_time": "2022-04-29T12:23:02.566012",
     "status": "completed"
    },
    "tags": []
   },
   "outputs": [],
   "source": [
    "X = sm.add_constant(X)"
   ]
  },
  {
   "cell_type": "code",
   "execution_count": null,
   "id": "fbd50339",
   "metadata": {
    "papermill": {
     "duration": 0.267486,
     "end_time": "2022-04-29T12:23:03.320992",
     "exception": false,
     "start_time": "2022-04-29T12:23:03.053506",
     "status": "completed"
    },
    "tags": []
   },
   "outputs": [],
   "source": [
    "X_train, X_test, y_train, y_test = train_test_split(X, y, test_size=0.3, random_state=10)"
   ]
  },
  {
   "cell_type": "code",
   "execution_count": null,
   "id": "e3e4b302",
   "metadata": {
    "papermill": {
     "duration": 0.419205,
     "end_time": "2022-04-29T12:23:04.008239",
     "exception": false,
     "start_time": "2022-04-29T12:23:03.589034",
     "status": "completed"
    },
    "tags": []
   },
   "outputs": [],
   "source": [
    "MLR_model1 = sm.OLS(y_train, X_train).fit()\n",
    "MLR_model1.summary()"
   ]
  },
  {
   "cell_type": "markdown",
   "id": "e97d2d27",
   "metadata": {
    "papermill": {
     "duration": 0.243267,
     "end_time": "2022-04-29T12:23:04.493363",
     "exception": false,
     "start_time": "2022-04-29T12:23:04.250096",
     "status": "completed"
    },
    "tags": []
   },
   "source": [
    "1. 99.5% of the variation is dependent on variable CO2_Emissions.\n",
    "2. The Durbin-Watson test statistic is 2.006 and indicates that there is no auto-correlation\n",
    "3. The Condition Number is 1.00e+16 which suggests that there is severe mutli-collinearity\n",
    "4. The features taken into consideration are of different scales"
   ]
  },
  {
   "cell_type": "markdown",
   "id": "47e6174e",
   "metadata": {
    "papermill": {
     "duration": 0.234702,
     "end_time": "2022-04-29T12:23:05.043858",
     "exception": false,
     "start_time": "2022-04-29T12:23:04.809156",
     "status": "completed"
    },
    "tags": []
   },
   "source": [
    "## 6.2 Feature Transformation<a id='fea_tra'></a>"
   ]
  },
  {
   "cell_type": "code",
   "execution_count": null,
   "id": "54c25900",
   "metadata": {
    "papermill": {
     "duration": 0.253678,
     "end_time": "2022-04-29T12:23:05.530169",
     "exception": false,
     "start_time": "2022-04-29T12:23:05.276491",
     "status": "completed"
    },
    "tags": []
   },
   "outputs": [],
   "source": [
    "df_num_features.skew()"
   ]
  },
  {
   "cell_type": "markdown",
   "id": "744f7f19",
   "metadata": {
    "papermill": {
     "duration": 0.235352,
     "end_time": "2022-04-29T12:23:06.009059",
     "exception": false,
     "start_time": "2022-04-29T12:23:05.773707",
     "status": "completed"
    },
    "tags": []
   },
   "source": [
    "Since the skewness is relatively low, there is no need to perform any further transformations to reduce skewness"
   ]
  },
  {
   "cell_type": "markdown",
   "id": "ce982531",
   "metadata": {
    "papermill": {
     "duration": 0.232571,
     "end_time": "2022-04-29T12:23:06.480144",
     "exception": false,
     "start_time": "2022-04-29T12:23:06.247573",
     "status": "completed"
    },
    "tags": []
   },
   "source": [
    "## 6.3 Feature Scaling<a id='fea_sca'></a>"
   ]
  },
  {
   "cell_type": "code",
   "execution_count": null,
   "id": "68b7b77a",
   "metadata": {
    "papermill": {
     "duration": 0.255763,
     "end_time": "2022-04-29T12:23:06.983062",
     "exception": false,
     "start_time": "2022-04-29T12:23:06.727299",
     "status": "completed"
    },
    "tags": []
   },
   "outputs": [],
   "source": [
    "for col in df_num_features.columns:\n",
    "    print(\"Column \", col, \" :\", stats.shapiro(df_num_features[col]))"
   ]
  },
  {
   "cell_type": "markdown",
   "id": "c71fc998",
   "metadata": {
    "papermill": {
     "duration": 0.237063,
     "end_time": "2022-04-29T12:23:07.457170",
     "exception": false,
     "start_time": "2022-04-29T12:23:07.220107",
     "status": "completed"
    },
    "tags": []
   },
   "source": [
    "Since none of the numerical features are normally distributed (p-value<0.05) , we will perform Min-Max normalisation to scale the data"
   ]
  },
  {
   "cell_type": "code",
   "execution_count": null,
   "id": "fbb37b25",
   "metadata": {
    "papermill": {
     "duration": 0.242708,
     "end_time": "2022-04-29T12:23:07.937947",
     "exception": false,
     "start_time": "2022-04-29T12:23:07.695239",
     "status": "completed"
    },
    "tags": []
   },
   "outputs": [],
   "source": [
    "df_num_features.drop('CO2_Emissions',axis=1,inplace=True)"
   ]
  },
  {
   "cell_type": "code",
   "execution_count": null,
   "id": "3ebaf5e9",
   "metadata": {
    "papermill": {
     "duration": 0.251363,
     "end_time": "2022-04-29T12:23:08.425684",
     "exception": false,
     "start_time": "2022-04-29T12:23:08.174321",
     "status": "completed"
    },
    "tags": []
   },
   "outputs": [],
   "source": [
    "mms = MinMaxScaler()\n",
    "mmsfit = mms.fit(df_num_features)\n",
    "dfx = pd.DataFrame(mms.fit_transform(df_num_features), columns = ['Engine_Size','Cylinders','Fuel_Consumption_City',\n",
    "                                                                'Fuel_Consumption_Hwy','Fuel_Consumption_Comb','Fuel_Consumption_Comb1'])"
   ]
  },
  {
   "cell_type": "code",
   "execution_count": null,
   "id": "985882f5",
   "metadata": {
    "papermill": {
     "duration": 0.267669,
     "end_time": "2022-04-29T12:23:08.925843",
     "exception": false,
     "start_time": "2022-04-29T12:23:08.658174",
     "status": "completed"
    },
    "tags": []
   },
   "outputs": [],
   "source": [
    "df = pd.concat([dfx, df_dummies], axis = 1)\n",
    "df.head()"
   ]
  },
  {
   "cell_type": "markdown",
   "id": "510dca40",
   "metadata": {
    "papermill": {
     "duration": 0.237218,
     "end_time": "2022-04-29T12:23:09.399219",
     "exception": false,
     "start_time": "2022-04-29T12:23:09.162001",
     "status": "completed"
    },
    "tags": []
   },
   "source": [
    "## 6.4 Multiple Linear Regression -  After Feature Scaling<a id='mod_aft_sca'></a>"
   ]
  },
  {
   "cell_type": "code",
   "execution_count": null,
   "id": "2d69b555",
   "metadata": {
    "papermill": {
     "duration": 0.259336,
     "end_time": "2022-04-29T12:23:09.894444",
     "exception": false,
     "start_time": "2022-04-29T12:23:09.635108",
     "status": "completed"
    },
    "tags": []
   },
   "outputs": [],
   "source": [
    "X = df.copy()\n",
    "X = sm.add_constant(X)"
   ]
  },
  {
   "cell_type": "code",
   "execution_count": null,
   "id": "cd98d0eb",
   "metadata": {
    "papermill": {
     "duration": 0.341337,
     "end_time": "2022-04-29T12:23:10.472190",
     "exception": false,
     "start_time": "2022-04-29T12:23:10.130853",
     "status": "completed"
    },
    "tags": []
   },
   "outputs": [],
   "source": [
    "X_train, X_test, y_train, y_test = train_test_split(X, y, test_size=0.3, random_state=10)\n",
    "\n",
    "\n",
    "MLR_model2 = sm.OLS(y_train, X_train).fit()\n",
    "MLR_model2.summary()"
   ]
  },
  {
   "cell_type": "markdown",
   "id": "111b639e",
   "metadata": {
    "papermill": {
     "duration": 0.237172,
     "end_time": "2022-04-29T12:23:10.964696",
     "exception": false,
     "start_time": "2022-04-29T12:23:10.727524",
     "status": "completed"
    },
    "tags": []
   },
   "source": [
    "1. 99.5% of the variation is dependent on variable CO2_Emissions.\n",
    "2. The Durbin-Watson test statistic is 2.006 and indicates that there is no auto-correlation\n",
    "3. The Condition Number is 1.24e+16 which suggests that there is severe mutli-collinearity"
   ]
  },
  {
   "cell_type": "markdown",
   "id": "baa4107a",
   "metadata": {
    "papermill": {
     "duration": 0.23352,
     "end_time": "2022-04-29T12:23:11.433554",
     "exception": false,
     "start_time": "2022-04-29T12:23:11.200034",
     "status": "completed"
    },
    "tags": []
   },
   "source": [
    "## 6.5 Assumptions Before Multiple Linear Regression Model<a id=\"ass_bef\"></a>"
   ]
  },
  {
   "cell_type": "markdown",
   "id": "efc9de5e",
   "metadata": {
    "papermill": {
     "duration": 0.237943,
     "end_time": "2022-04-29T12:23:11.905117",
     "exception": false,
     "start_time": "2022-04-29T12:23:11.667174",
     "status": "completed"
    },
    "tags": []
   },
   "source": [
    "### 6.5.1 Assumption #1: If Target Variable is Numeric<a id=\"tgt_num\"></a>"
   ]
  },
  {
   "cell_type": "code",
   "execution_count": null,
   "id": "2d269f44",
   "metadata": {
    "papermill": {
     "duration": 0.242562,
     "end_time": "2022-04-29T12:23:12.386717",
     "exception": false,
     "start_time": "2022-04-29T12:23:12.144155",
     "status": "completed"
    },
    "tags": []
   },
   "outputs": [],
   "source": [
    "target = df_comb['CO2_Emissions']\n",
    "target.dtype"
   ]
  },
  {
   "cell_type": "markdown",
   "id": "b109896e",
   "metadata": {
    "papermill": {
     "duration": 0.240514,
     "end_time": "2022-04-29T12:23:12.863604",
     "exception": false,
     "start_time": "2022-04-29T12:23:12.623090",
     "status": "completed"
    },
    "tags": []
   },
   "source": [
    "### 6.5.2 Assumption #2: Presence of Multi-Collinearity<a id=\"pre_mul_col\"></a>"
   ]
  },
  {
   "cell_type": "code",
   "execution_count": null,
   "id": "1395de77",
   "metadata": {
    "papermill": {
     "duration": 0.28105,
     "end_time": "2022-04-29T12:23:13.382121",
     "exception": false,
     "start_time": "2022-04-29T12:23:13.101071",
     "status": "completed"
    },
    "tags": []
   },
   "outputs": [],
   "source": [
    "vif = pd.DataFrame()\n",
    "vif[\"VIF_Factor\"] = [variance_inflation_factor(df_num_features.values, i) for i in range(df_num_features.shape[1])]\n",
    "vif[\"Features\"] = df_num_features.columns\n",
    "vif.sort_values('VIF_Factor', ascending = False).reset_index(drop = True)"
   ]
  },
  {
   "cell_type": "markdown",
   "id": "e0e8478f",
   "metadata": {
    "papermill": {
     "duration": 0.234357,
     "end_time": "2022-04-29T12:23:13.902308",
     "exception": false,
     "start_time": "2022-04-29T12:23:13.667951",
     "status": "completed"
    },
    "tags": []
   },
   "source": [
    "Since all the features except Fuel_Consumption_Comb1 have a VIF value greater than 10 we cannot proceed with VIF method else we will lose all our features. Hence , we will proceed with PCA"
   ]
  },
  {
   "cell_type": "code",
   "execution_count": null,
   "id": "8a10812f",
   "metadata": {
    "papermill": {
     "duration": 0.280009,
     "end_time": "2022-04-29T12:23:14.421666",
     "exception": false,
     "start_time": "2022-04-29T12:23:14.141657",
     "status": "completed"
    },
    "tags": []
   },
   "outputs": [],
   "source": [
    "sklearn_pca = PCA()\n",
    "pcafit = sklearn_pca.fit(df)\n",
    "\n",
    "pcafit.explained_variance_"
   ]
  },
  {
   "cell_type": "code",
   "execution_count": null,
   "id": "4b500ab8",
   "metadata": {
    "papermill": {
     "duration": 0.244738,
     "end_time": "2022-04-29T12:23:14.955213",
     "exception": false,
     "start_time": "2022-04-29T12:23:14.710475",
     "status": "completed"
    },
    "tags": []
   },
   "outputs": [],
   "source": [
    "pcafit.components_"
   ]
  },
  {
   "cell_type": "code",
   "execution_count": null,
   "id": "ca8f1758",
   "metadata": {
    "papermill": {
     "duration": 0.656944,
     "end_time": "2022-04-29T12:23:15.850492",
     "exception": false,
     "start_time": "2022-04-29T12:23:15.193548",
     "status": "completed"
    },
    "tags": []
   },
   "outputs": [],
   "source": [
    "plt.plot(np.cumsum(pcafit.explained_variance_ratio_))\n",
    "plt.locator_params(axis=\"x\", nbins=len(pcafit.explained_variance_))\n",
    "plt.xlabel('number of components')\n",
    "plt.ylabel('cumulative explained variance');"
   ]
  },
  {
   "cell_type": "markdown",
   "id": "57498d33",
   "metadata": {
    "papermill": {
     "duration": 0.234253,
     "end_time": "2022-04-29T12:23:16.321672",
     "exception": false,
     "start_time": "2022-04-29T12:23:16.087419",
     "status": "completed"
    },
    "tags": []
   },
   "source": [
    "As you can see from the above graph, 28 components describe almost 98% of variance in features"
   ]
  },
  {
   "cell_type": "code",
   "execution_count": null,
   "id": "bae4d6e2",
   "metadata": {
    "papermill": {
     "duration": 0.316565,
     "end_time": "2022-04-29T12:23:16.872274",
     "exception": false,
     "start_time": "2022-04-29T12:23:16.555709",
     "status": "completed"
    },
    "tags": []
   },
   "outputs": [],
   "source": [
    "df_pca = sklearn_pca.fit_transform(df)\n",
    "df_pca = pd.DataFrame(df_pca, columns=['pca0','pca1','pca2','pca3','pca4','pca5',\n",
    "                                       'pca6','pca7','pca8','pca9','pca10','pca11',\n",
    "                                       'pca12','pca13','pca14','pca15','pca16',\n",
    "                                       'pca17','pca18','pca19','pca20','pca21','pca22',\n",
    "                                       'pca23','pca24','pca25','pca26','pca27','pca28',\n",
    "                                       'pca29','pca30','pca31','pca32','pca33',\n",
    "                                       'pca34','pca35','pca36','pca37','pca38','pca39',\n",
    "                                       'pca40','pca41'])\n",
    "\n",
    "df_pca.head()"
   ]
  },
  {
   "cell_type": "markdown",
   "id": "5de70f91",
   "metadata": {
    "papermill": {
     "duration": 0.235446,
     "end_time": "2022-04-29T12:23:17.380739",
     "exception": false,
     "start_time": "2022-04-29T12:23:17.145293",
     "status": "completed"
    },
    "tags": []
   },
   "source": [
    "## 6.6 Multiple Linear Regression - After PCA<a id=\"mod_pca\"></a>"
   ]
  },
  {
   "cell_type": "code",
   "execution_count": null,
   "id": "2e826a4b",
   "metadata": {
    "papermill": {
     "duration": 0.287349,
     "end_time": "2022-04-29T12:23:17.904096",
     "exception": false,
     "start_time": "2022-04-29T12:23:17.616747",
     "status": "completed"
    },
    "tags": []
   },
   "outputs": [],
   "source": [
    "df_pca = sm.add_constant(df_pca)\n",
    "\n",
    "X = df_pca[['const','pca0','pca1','pca2','pca3','pca4','pca5','pca6','pca7','pca8','pca9','pca10','pca11','pca12','pca13','pca14','pca15','pca16','pca17','pca18','pca19','pca20','pca21','pca22','pca23','pca24','pca25','pca26','pca27','pca28','pca29','pca30','pca31','pca32','pca33']]"
   ]
  },
  {
   "cell_type": "code",
   "execution_count": null,
   "id": "fbfc13a0",
   "metadata": {
    "papermill": {
     "duration": 0.325984,
     "end_time": "2022-04-29T12:23:18.475863",
     "exception": false,
     "start_time": "2022-04-29T12:23:18.149879",
     "status": "completed"
    },
    "tags": []
   },
   "outputs": [],
   "source": [
    "X_train, X_test, y_train, y_test = train_test_split(X, y, test_size=0.3, random_state=10)\n",
    "\n",
    "MLR_model_pca = sm.OLS(y_train, X_train).fit()\n",
    "MLR_model_pca.summary()"
   ]
  },
  {
   "cell_type": "markdown",
   "id": "ca40b652",
   "metadata": {
    "papermill": {
     "duration": 0.238877,
     "end_time": "2022-04-29T12:23:18.980501",
     "exception": false,
     "start_time": "2022-04-29T12:23:18.741624",
     "status": "completed"
    },
    "tags": []
   },
   "source": [
    "1. 99.3% of the variation is dependent on variable CO2_Emissions.\n",
    "2. The Durbin-Watson test statistic is 2.053 and indicates that there is no auto-correlation\n",
    "3. The Condition Number is 23.4 which suggests that there is no mutli-collinearity"
   ]
  },
  {
   "cell_type": "markdown",
   "id": "1a43fbdf",
   "metadata": {
    "papermill": {
     "duration": 0.239874,
     "end_time": "2022-04-29T12:23:19.462851",
     "exception": false,
     "start_time": "2022-04-29T12:23:19.222977",
     "status": "completed"
    },
    "tags": []
   },
   "source": [
    "## 6.7 Feature Selection<a id=\"fea_sel\"></a>"
   ]
  },
  {
   "cell_type": "markdown",
   "id": "9dba97f1",
   "metadata": {
    "papermill": {
     "duration": 0.23909,
     "end_time": "2022-04-29T12:23:19.943338",
     "exception": false,
     "start_time": "2022-04-29T12:23:19.704248",
     "status": "completed"
    },
    "tags": []
   },
   "source": [
    "### 6.7.1 Forward Selection<a id=\"for_sel\"></a>"
   ]
  },
  {
   "cell_type": "code",
   "execution_count": null,
   "id": "faed336d",
   "metadata": {
    "papermill": {
     "duration": 14.525947,
     "end_time": "2022-04-29T12:23:34.712911",
     "exception": false,
     "start_time": "2022-04-29T12:23:20.186964",
     "status": "completed"
    },
    "tags": []
   },
   "outputs": [],
   "source": [
    "linreg = LinearRegression()\n",
    "linreg_forward = sfs(estimator=linreg, k_features ='best', forward=True,\n",
    "                     verbose=0, scoring='r2')\n",
    "\n",
    "sfs_forward = linreg_forward.fit(X_train, y_train)"
   ]
  },
  {
   "cell_type": "code",
   "execution_count": null,
   "id": "64ab57a2",
   "metadata": {
    "papermill": {
     "duration": 0.247631,
     "end_time": "2022-04-29T12:23:35.277525",
     "exception": false,
     "start_time": "2022-04-29T12:23:35.029894",
     "status": "completed"
    },
    "tags": []
   },
   "outputs": [],
   "source": [
    "print('Features selected using forward selection are: ')\n",
    "print(sfs_forward.k_feature_names_)\n",
    "\n",
    "print('\\nR-Squared: ', sfs_forward.k_score_)"
   ]
  },
  {
   "cell_type": "markdown",
   "id": "164cb1a7",
   "metadata": {
    "papermill": {
     "duration": 0.26605,
     "end_time": "2022-04-29T12:23:35.782504",
     "exception": false,
     "start_time": "2022-04-29T12:23:35.516454",
     "status": "completed"
    },
    "tags": []
   },
   "source": [
    "### 6.7.2 Backward Elimination<a id=\"bac_eli\"></a>"
   ]
  },
  {
   "cell_type": "code",
   "execution_count": null,
   "id": "16200590",
   "metadata": {
    "papermill": {
     "duration": 36.656108,
     "end_time": "2022-04-29T12:24:12.723123",
     "exception": false,
     "start_time": "2022-04-29T12:23:36.067015",
     "status": "completed"
    },
    "tags": []
   },
   "outputs": [],
   "source": [
    "linreg = LinearRegression()\n",
    "linreg_backward = sfs(estimator = linreg, k_features ='best', forward = False,\n",
    "                     verbose = 0, scoring = 'r2')\n",
    "\n",
    "sfs_backward = linreg_backward.fit(X_train, y_train)"
   ]
  },
  {
   "cell_type": "code",
   "execution_count": null,
   "id": "4754cdb0",
   "metadata": {
    "papermill": {
     "duration": 0.252715,
     "end_time": "2022-04-29T12:24:13.227674",
     "exception": false,
     "start_time": "2022-04-29T12:24:12.974959",
     "status": "completed"
    },
    "tags": []
   },
   "outputs": [],
   "source": [
    "print('Features selected using backward elimination are: ')\n",
    "print(sfs_backward.k_feature_names_)\n",
    "\n",
    "print('\\nR-Squared: ', sfs_backward.k_score_)"
   ]
  },
  {
   "cell_type": "markdown",
   "id": "828b2cb1",
   "metadata": {
    "papermill": {
     "duration": 0.238152,
     "end_time": "2022-04-29T12:24:13.708481",
     "exception": false,
     "start_time": "2022-04-29T12:24:13.470329",
     "status": "completed"
    },
    "tags": []
   },
   "source": [
    "Obtained similar results as that of Forward Selection where all features except and pca_22 have been retained for the betterment of the model"
   ]
  },
  {
   "cell_type": "markdown",
   "id": "4043e246",
   "metadata": {
    "papermill": {
     "duration": 0.238834,
     "end_time": "2022-04-29T12:24:14.185095",
     "exception": false,
     "start_time": "2022-04-29T12:24:13.946261",
     "status": "completed"
    },
    "tags": []
   },
   "source": [
    "## 6.8 Multiple Linear Regression - Full Model - After Feature Selection<a id=\"mod_fea_sel\"></a>"
   ]
  },
  {
   "cell_type": "code",
   "execution_count": null,
   "id": "c45784c3",
   "metadata": {
    "papermill": {
     "duration": 0.250393,
     "end_time": "2022-04-29T12:24:14.682683",
     "exception": false,
     "start_time": "2022-04-29T12:24:14.432290",
     "status": "completed"
    },
    "tags": []
   },
   "outputs": [],
   "source": [
    "X = df_pca[['const','pca0', 'pca1', 'pca2', 'pca3', 'pca4', 'pca5', 'pca6', 'pca7', 'pca8', 'pca9', 'pca10', 'pca11', 'pca12', 'pca13', 'pca14' ,'pca15', 'pca16', 'pca17', 'pca18', 'pca19', 'pca20', 'pca21', 'pca23', 'pca24', 'pca25', 'pca26', 'pca27', 'pca28', 'pca29', 'pca30', 'pca31', 'pca32', 'pca33']]"
   ]
  },
  {
   "cell_type": "code",
   "execution_count": null,
   "id": "7e3a0fb6",
   "metadata": {
    "papermill": {
     "duration": 0.336273,
     "end_time": "2022-04-29T12:24:15.258361",
     "exception": false,
     "start_time": "2022-04-29T12:24:14.922088",
     "status": "completed"
    },
    "tags": []
   },
   "outputs": [],
   "source": [
    "X_train, X_test, y_train, y_test = train_test_split(X, y, test_size=0.3, random_state=10)\n",
    "\n",
    "MLR_full_model = sm.OLS(y_train, X_train).fit()\n",
    "MLR_full_model.summary()"
   ]
  },
  {
   "cell_type": "markdown",
   "id": "110684ec",
   "metadata": {
    "papermill": {
     "duration": 0.241235,
     "end_time": "2022-04-29T12:24:15.772374",
     "exception": false,
     "start_time": "2022-04-29T12:24:15.531139",
     "status": "completed"
    },
    "tags": []
   },
   "source": [
    " 1. 99.3% of the variation is dependent on variable CO2_Emissions.\n",
    " 2. The Durbin-Watson test statistic is 2.051 and indicates that there is no auto-correlation\n",
    " 3. The Condition Number is 23.4 which suggests that there is no mutli-collinearity"
   ]
  },
  {
   "cell_type": "markdown",
   "id": "64cca4ab",
   "metadata": {
    "papermill": {
     "duration": 0.24153,
     "end_time": "2022-04-29T12:24:16.258166",
     "exception": false,
     "start_time": "2022-04-29T12:24:16.016636",
     "status": "completed"
    },
    "tags": []
   },
   "source": [
    "## 6.9 Assumptions After Multiple Linear Regression Model<a id=\"ass_aft\"></a>"
   ]
  },
  {
   "cell_type": "markdown",
   "id": "898a53aa",
   "metadata": {
    "papermill": {
     "duration": 0.243181,
     "end_time": "2022-04-29T12:24:16.745610",
     "exception": false,
     "start_time": "2022-04-29T12:24:16.502429",
     "status": "completed"
    },
    "tags": []
   },
   "source": [
    "### 6.9.1 Assumption #1: Linear Relationship Between Dependent and Independent Variable<a id=\"lr_dep_ind\"></a>"
   ]
  },
  {
   "cell_type": "code",
   "execution_count": null,
   "id": "c6138502",
   "metadata": {
    "papermill": {
     "duration": 1.104277,
     "end_time": "2022-04-29T12:24:18.097379",
     "exception": false,
     "start_time": "2022-04-29T12:24:16.993102",
     "status": "completed"
    },
    "tags": []
   },
   "outputs": [],
   "source": [
    "fig, ax = plt.subplots(nrows = 2, ncols= 2, figsize=(20, 15))\n",
    "\n",
    "# 'ax' assigs axes object to draw the plot onto \n",
    "for variable, subplot in zip(X_train.columns[1:5], ax.flatten()):\n",
    "    sns.scatterplot(X_train[variable], MLR_full_model.resid , ax=subplot)\n",
    "\n",
    "plt.show()"
   ]
  },
  {
   "cell_type": "markdown",
   "id": "63e651af",
   "metadata": {
    "papermill": {
     "duration": 0.257035,
     "end_time": "2022-04-29T12:24:18.608323",
     "exception": false,
     "start_time": "2022-04-29T12:24:18.351288",
     "status": "completed"
    },
    "tags": []
   },
   "source": [
    " The above plots show no specific pattern, implies that there is a linearity present in the data"
   ]
  },
  {
   "cell_type": "markdown",
   "id": "a231f4de",
   "metadata": {
    "papermill": {
     "duration": 0.251726,
     "end_time": "2022-04-29T12:24:19.117798",
     "exception": false,
     "start_time": "2022-04-29T12:24:18.866072",
     "status": "completed"
    },
    "tags": []
   },
   "source": [
    "### 6.9.2 Assumption #2: Checking for Autocorrelation<a id=\"che_aut_cor\"></a>"
   ]
  },
  {
   "cell_type": "markdown",
   "id": "8e046522",
   "metadata": {
    "papermill": {
     "duration": 0.253921,
     "end_time": "2022-04-29T12:24:19.623238",
     "exception": false,
     "start_time": "2022-04-29T12:24:19.369317",
     "status": "completed"
    },
    "tags": []
   },
   "source": [
    "From the above summary [Section 6.8](#mod_fea_sel), we can observe that the value obtained from the `Durbin-Watson` test statistic is close to **2** (= 2.012). Thus, we conclude that there is no autocorrelation."
   ]
  },
  {
   "cell_type": "markdown",
   "id": "a0896aed",
   "metadata": {
    "papermill": {
     "duration": 0.255857,
     "end_time": "2022-04-29T12:24:20.130244",
     "exception": false,
     "start_time": "2022-04-29T12:24:19.874387",
     "status": "completed"
    },
    "tags": []
   },
   "source": [
    "### 6.9.3 Assumption #3: Checking for Heteroskedasticity<a id=\"che_het\"></a>"
   ]
  },
  {
   "cell_type": "markdown",
   "id": "b4c0c305",
   "metadata": {
    "papermill": {
     "duration": 0.25386,
     "end_time": "2022-04-29T12:24:20.638230",
     "exception": false,
     "start_time": "2022-04-29T12:24:20.384370",
     "status": "completed"
    },
    "tags": []
   },
   "source": [
    "Breusch-Pagan is one of the tests for detecting heteroskedasticity in the residuals.<br>\n",
    "The test hypothesis for the Breusch-Pagan test is given as:\n",
    "<p style='text-indent:25em'> <strong> H<sub>o</sub>:  There is homoscedasticity present in the data </strong> </p>\n",
    "<p style='text-indent:25em'> <strong> H<sub>1</sub>:  There is a heteroscedasticity present in the data </strong> </p>"
   ]
  },
  {
   "cell_type": "code",
   "execution_count": null,
   "id": "304d738c",
   "metadata": {
    "papermill": {
     "duration": 0.279789,
     "end_time": "2022-04-29T12:24:21.167985",
     "exception": false,
     "start_time": "2022-04-29T12:24:20.888196",
     "status": "completed"
    },
    "tags": []
   },
   "outputs": [],
   "source": [
    "name = ['f-value','p-value']\n",
    "test = sms.het_breuschpagan(MLR_full_model.resid, MLR_full_model.model.exog)\n",
    "lzip(name, test[2:])"
   ]
  },
  {
   "cell_type": "markdown",
   "id": "3bdc9d60",
   "metadata": {
    "papermill": {
     "duration": 0.257304,
     "end_time": "2022-04-29T12:24:21.730573",
     "exception": false,
     "start_time": "2022-04-29T12:24:21.473269",
     "status": "completed"
    },
    "tags": []
   },
   "source": [
    "We observe that the p-value is less than 0.05; thus, we conclude that there is heteroskedasticity present in the data."
   ]
  },
  {
   "cell_type": "markdown",
   "id": "782f8621",
   "metadata": {
    "papermill": {
     "duration": 0.252685,
     "end_time": "2022-04-29T12:24:22.234117",
     "exception": false,
     "start_time": "2022-04-29T12:24:21.981432",
     "status": "completed"
    },
    "tags": []
   },
   "source": [
    "### 6.9.4 Assumption #4: Tests for Normality<a id=\"tes_nor\"></a>"
   ]
  },
  {
   "cell_type": "markdown",
   "id": "bef6db1d",
   "metadata": {
    "papermill": {
     "duration": 0.307045,
     "end_time": "2022-04-29T12:24:22.824202",
     "exception": false,
     "start_time": "2022-04-29T12:24:22.517157",
     "status": "completed"
    },
    "tags": []
   },
   "source": [
    "#### 6.9.4.1 Q-Q Plot<a id=\"qq_plt\"></a>"
   ]
  },
  {
   "cell_type": "code",
   "execution_count": null,
   "id": "63890ef0",
   "metadata": {
    "papermill": {
     "duration": 0.534627,
     "end_time": "2022-04-29T12:24:23.623101",
     "exception": false,
     "start_time": "2022-04-29T12:24:23.088474",
     "status": "completed"
    },
    "tags": []
   },
   "outputs": [],
   "source": [
    "plt.rcParams['figure.figsize'] = [15,8]\n",
    "\n",
    "qqplot(MLR_full_model.resid, line = 'r')\n",
    "\n",
    "plt.title('Q-Q Plot', fontsize = 15)\n",
    "plt.xlabel('Theoretical Quantiles', fontsize = 15)\n",
    "plt.ylabel('Sample Quantiles', fontsize = 15)\n",
    "\n",
    "plt.show()"
   ]
  },
  {
   "cell_type": "markdown",
   "id": "c5f3a304",
   "metadata": {
    "papermill": {
     "duration": 0.255746,
     "end_time": "2022-04-29T12:24:24.145586",
     "exception": false,
     "start_time": "2022-04-29T12:24:23.889840",
     "status": "completed"
    },
    "tags": []
   },
   "source": [
    " The diagonal line (red line) is the regression line and the blue points are the cumulative distribution of the residuals. As some of the points are not close to the diagonal line, we conclude that the residuals do not follow a `normal distribution.`"
   ]
  },
  {
   "cell_type": "markdown",
   "id": "d4f792e1",
   "metadata": {
    "papermill": {
     "duration": 0.253956,
     "end_time": "2022-04-29T12:24:24.649978",
     "exception": false,
     "start_time": "2022-04-29T12:24:24.396022",
     "status": "completed"
    },
    "tags": []
   },
   "source": [
    "#### 6.9.4.2 Shapiro Wilk Test<a id=\"sha_wil_tes\"></a>"
   ]
  },
  {
   "cell_type": "markdown",
   "id": "50dd4e67",
   "metadata": {
    "papermill": {
     "duration": 0.256852,
     "end_time": "2022-04-29T12:24:25.243887",
     "exception": false,
     "start_time": "2022-04-29T12:24:24.987035",
     "status": "completed"
    },
    "tags": []
   },
   "source": [
    "The Shapiro Wilk test is used to check the normality of the residuals. The test hypothesis is given as:<br>\n",
    "\n",
    "<p style='text-indent:25em'> <strong> H<sub>o</sub>:  Residuals are normally distributed </strong> </p>\n",
    "<p style='text-indent:25em'> <strong> H<sub>1</sub>:  Residuals are not normally distributed </strong> </p>"
   ]
  },
  {
   "cell_type": "code",
   "execution_count": null,
   "id": "e47c582a",
   "metadata": {
    "papermill": {
     "duration": 0.265987,
     "end_time": "2022-04-29T12:24:25.763234",
     "exception": false,
     "start_time": "2022-04-29T12:24:25.497247",
     "status": "completed"
    },
    "tags": []
   },
   "outputs": [],
   "source": [
    "stat, p_value = shapiro(MLR_full_model.resid)\n",
    "print('Test statistic:', stat)\n",
    "print('P-Value:', p_value)"
   ]
  },
  {
   "cell_type": "markdown",
   "id": "cffef67c",
   "metadata": {
    "papermill": {
     "duration": 0.256297,
     "end_time": "2022-04-29T12:24:26.273218",
     "exception": false,
     "start_time": "2022-04-29T12:24:26.016921",
     "status": "completed"
    },
    "tags": []
   },
   "source": [
    "From the above test we can see that the p-value is 1.365e-38 (less than 0.05), thus we can say that the residuals are not normally distributed.\n",
    "\n"
   ]
  },
  {
   "cell_type": "markdown",
   "id": "463fcb96",
   "metadata": {
    "papermill": {
     "duration": 0.253846,
     "end_time": "2022-04-29T12:24:26.780001",
     "exception": false,
     "start_time": "2022-04-29T12:24:26.526155",
     "status": "completed"
    },
    "tags": []
   },
   "source": [
    "# 7. Model Evaluation<a id=\"mod_eva\"></a>"
   ]
  },
  {
   "cell_type": "markdown",
   "id": "300daee5",
   "metadata": {
    "papermill": {
     "duration": 0.251778,
     "end_time": "2022-04-29T12:24:27.284579",
     "exception": false,
     "start_time": "2022-04-29T12:24:27.032801",
     "status": "completed"
    },
    "tags": []
   },
   "source": [
    "## 7.1 Measures of Variation<a id=\"mea_var\"></a>"
   ]
  },
  {
   "cell_type": "code",
   "execution_count": null,
   "id": "8a4a9878",
   "metadata": {
    "papermill": {
     "duration": 0.26726,
     "end_time": "2022-04-29T12:24:27.804038",
     "exception": false,
     "start_time": "2022-04-29T12:24:27.536778",
     "status": "completed"
    },
    "tags": []
   },
   "outputs": [],
   "source": [
    "y_train_pred = MLR_full_model.predict(X_train) \n",
    "y_train_pred.head()"
   ]
  },
  {
   "cell_type": "code",
   "execution_count": null,
   "id": "a5d186b1",
   "metadata": {
    "papermill": {
     "duration": 0.271623,
     "end_time": "2022-04-29T12:24:28.382012",
     "exception": false,
     "start_time": "2022-04-29T12:24:28.110389",
     "status": "completed"
    },
    "tags": []
   },
   "outputs": [],
   "source": [
    "ssr = np.sum((y_train_pred - y_train.mean())**2)\n",
    "sse = np.sum((y_train - y_train_pred)**2)\n",
    "sst = np.sum((y_train - y_train.mean())**2)\n",
    "\n",
    "\n",
    "print('Sum of Squared Regression:',ssr)\n",
    "print('Sum of Squared Error:',sse)\n",
    "print('Sum of Sqaured Total:',sst)\n",
    "print('Sum of SSR and SSE is:',ssr+sse)"
   ]
  },
  {
   "cell_type": "code",
   "execution_count": null,
   "id": "83e2be1f",
   "metadata": {
    "papermill": {
     "duration": 0.27064,
     "end_time": "2022-04-29T12:24:28.911567",
     "exception": false,
     "start_time": "2022-04-29T12:24:28.640927",
     "status": "completed"
    },
    "tags": []
   },
   "outputs": [],
   "source": [
    "r_sq =MLR_full_model.rsquared\n",
    "\n",
    "# print the R-squared value\n",
    "print('R Squared is:',r_sq)"
   ]
  },
  {
   "cell_type": "code",
   "execution_count": null,
   "id": "eb6fafcf",
   "metadata": {
    "papermill": {
     "duration": 0.265639,
     "end_time": "2022-04-29T12:24:29.432605",
     "exception": false,
     "start_time": "2022-04-29T12:24:29.166966",
     "status": "completed"
    },
    "tags": []
   },
   "outputs": [],
   "source": [
    "see = np.sqrt(sse/(len(X_train) - 2))    \n",
    "print(\"The standard error of estimate:\",see)"
   ]
  },
  {
   "cell_type": "markdown",
   "id": "4a599b6f",
   "metadata": {
    "papermill": {
     "duration": 0.257057,
     "end_time": "2022-04-29T12:24:29.945686",
     "exception": false,
     "start_time": "2022-04-29T12:24:29.688629",
     "status": "completed"
    },
    "tags": []
   },
   "source": [
    "## 7.2 Inferences about Intercept and Slope<a id=\"inf_int_slo\"></a>"
   ]
  },
  {
   "cell_type": "code",
   "execution_count": null,
   "id": "7ace4aff",
   "metadata": {
    "papermill": {
     "duration": 0.263903,
     "end_time": "2022-04-29T12:24:30.468078",
     "exception": false,
     "start_time": "2022-04-29T12:24:30.204175",
     "status": "completed"
    },
    "tags": []
   },
   "outputs": [],
   "source": [
    "t_intercept =MLR_full_model.params[0] / MLR_full_model.bse[0]\n",
    "print('t intercept:',t_intercept)"
   ]
  },
  {
   "cell_type": "code",
   "execution_count": null,
   "id": "66d87214",
   "metadata": {
    "papermill": {
     "duration": 0.264828,
     "end_time": "2022-04-29T12:24:30.989648",
     "exception": false,
     "start_time": "2022-04-29T12:24:30.724820",
     "status": "completed"
    },
    "tags": []
   },
   "outputs": [],
   "source": [
    "t_coeff1 =MLR_full_model.params[1] / MLR_full_model.bse[1]\n",
    "print('t coeff:',t_coeff1)"
   ]
  },
  {
   "cell_type": "markdown",
   "id": "59adc540",
   "metadata": {
    "papermill": {
     "duration": 0.256093,
     "end_time": "2022-04-29T12:24:31.500984",
     "exception": false,
     "start_time": "2022-04-29T12:24:31.244891",
     "status": "completed"
    },
    "tags": []
   },
   "source": [
    "degrees of freedom = n - 1 = 4070 - 1 = 4069"
   ]
  },
  {
   "cell_type": "code",
   "execution_count": null,
   "id": "d375d988",
   "metadata": {
    "papermill": {
     "duration": 0.265176,
     "end_time": "2022-04-29T12:24:32.023033",
     "exception": false,
     "start_time": "2022-04-29T12:24:31.757857",
     "status": "completed"
    },
    "tags": []
   },
   "outputs": [],
   "source": [
    "pval = stats.t.sf(np.abs(t_intercept), 4069)*2 \n",
    "print('p val for intercept:',pval)"
   ]
  },
  {
   "cell_type": "markdown",
   "id": "7f8f557c",
   "metadata": {
    "papermill": {
     "duration": 0.256351,
     "end_time": "2022-04-29T12:24:32.533673",
     "exception": false,
     "start_time": "2022-04-29T12:24:32.277322",
     "status": "completed"
    },
    "tags": []
   },
   "source": [
    "## 7.3 Confidence Interval for Intercept and Slope<a id=\"con_int_slo\"></a>"
   ]
  },
  {
   "cell_type": "markdown",
   "id": "9dd7b400",
   "metadata": {
    "papermill": {
     "duration": 0.258736,
     "end_time": "2022-04-29T12:24:33.050543",
     "exception": false,
     "start_time": "2022-04-29T12:24:32.791807",
     "status": "completed"
    },
    "tags": []
   },
   "source": [
    "t_table_value = 1.9622"
   ]
  },
  {
   "cell_type": "code",
   "execution_count": null,
   "id": "31455c08",
   "metadata": {
    "papermill": {
     "duration": 0.272281,
     "end_time": "2022-04-29T12:24:33.583603",
     "exception": false,
     "start_time": "2022-04-29T12:24:33.311322",
     "status": "completed"
    },
    "tags": []
   },
   "outputs": [],
   "source": [
    "CI_inter_min, CI_inter_max = MLR_full_model.params[0] - (1.9622*MLR_full_model.bse[0]), MLR_full_model.params[0] + (1.9622*MLR_full_model.bse[0])\n",
    "print('CI for intercept:', [CI_inter_min , CI_inter_max])"
   ]
  },
  {
   "cell_type": "code",
   "execution_count": null,
   "id": "ea6cc38d",
   "metadata": {
    "papermill": {
     "duration": 0.267247,
     "end_time": "2022-04-29T12:24:34.108921",
     "exception": false,
     "start_time": "2022-04-29T12:24:33.841674",
     "status": "completed"
    },
    "tags": []
   },
   "outputs": [],
   "source": [
    "CI_coeff1_min, CI_coeff1_max = MLR_full_model.params[1] - (1.9622*MLR_full_model.bse[1]), MLR_full_model.params[1] + (1.9622*MLR_full_model.bse[1])\n",
    "print('CI for coeff1:', [CI_coeff1_min, CI_coeff1_max])"
   ]
  },
  {
   "cell_type": "markdown",
   "id": "67123941",
   "metadata": {
    "papermill": {
     "duration": 0.257012,
     "end_time": "2022-04-29T12:24:34.624992",
     "exception": false,
     "start_time": "2022-04-29T12:24:34.367980",
     "status": "completed"
    },
    "tags": []
   },
   "source": [
    "## 7.4 Compare Regression Results<a id=\"com_reg_res\"></a>"
   ]
  },
  {
   "cell_type": "code",
   "execution_count": null,
   "id": "01ae5f71",
   "metadata": {
    "papermill": {
     "duration": 0.273982,
     "end_time": "2022-04-29T12:24:35.203782",
     "exception": false,
     "start_time": "2022-04-29T12:24:34.929800",
     "status": "completed"
    },
    "tags": []
   },
   "outputs": [],
   "source": [
    "r_sq_mlr = MLR_full_model.rsquared\n",
    "print('r square in regression model:',r_sq_mlr)"
   ]
  },
  {
   "cell_type": "markdown",
   "id": "fa18ba67",
   "metadata": {
    "papermill": {
     "duration": 0.263173,
     "end_time": "2022-04-29T12:24:35.726166",
     "exception": false,
     "start_time": "2022-04-29T12:24:35.462993",
     "status": "completed"
    },
    "tags": []
   },
   "source": [
    "The value of R-squared is 0.993. Thus, we conclude that the 99.3% variation in the CO2_Emissions is explained by the model."
   ]
  },
  {
   "cell_type": "code",
   "execution_count": null,
   "id": "9c6e92a0",
   "metadata": {
    "papermill": {
     "duration": 0.269102,
     "end_time": "2022-04-29T12:24:36.255572",
     "exception": false,
     "start_time": "2022-04-29T12:24:35.986470",
     "status": "completed"
    },
    "tags": []
   },
   "outputs": [],
   "source": [
    "adj_r_sq = MLR_full_model.rsquared_adj\n",
    "print('Adjusted r square for regression model:',adj_r_sq)"
   ]
  },
  {
   "cell_type": "markdown",
   "id": "e4a45deb",
   "metadata": {
    "papermill": {
     "duration": 0.257164,
     "end_time": "2022-04-29T12:24:36.774248",
     "exception": false,
     "start_time": "2022-04-29T12:24:36.517084",
     "status": "completed"
    },
    "tags": []
   },
   "source": [
    "Overall F-Test & p-value of the Model"
   ]
  },
  {
   "cell_type": "markdown",
   "id": "799dfec4",
   "metadata": {
    "papermill": {
     "duration": 0.263387,
     "end_time": "2022-04-29T12:24:37.296263",
     "exception": false,
     "start_time": "2022-04-29T12:24:37.032876",
     "status": "completed"
    },
    "tags": []
   },
   "source": [
    "compute f_value using the below formula \n",
    "\n",
    "\n",
    "f_value = (r_sq / k-1)/((1- r_sq)/n-k)\n",
    "\n",
    "k = number of beta coefficients\n",
    "n = number of observations"
   ]
  },
  {
   "cell_type": "code",
   "execution_count": null,
   "id": "f64248d4",
   "metadata": {
    "papermill": {
     "duration": 0.267712,
     "end_time": "2022-04-29T12:24:37.821844",
     "exception": false,
     "start_time": "2022-04-29T12:24:37.554132",
     "status": "completed"
    },
    "tags": []
   },
   "outputs": [],
   "source": [
    "k = len(X_train.columns)\n",
    "n = len(X_train)\n",
    "\n",
    "f_value = (r_sq_mlr / (k - 1))/((1-r_sq_mlr)/(n - k))\n",
    "print('f value for regression model:',f_value)"
   ]
  },
  {
   "cell_type": "markdown",
   "id": "a8aafddd",
   "metadata": {
    "papermill": {
     "duration": 0.256664,
     "end_time": "2022-04-29T12:24:38.339600",
     "exception": false,
     "start_time": "2022-04-29T12:24:38.082936",
     "status": "completed"
    },
    "tags": []
   },
   "source": [
    "degrees of freedom \n",
    "dfn = k-1 = 32-1 = 31\n",
    "dfd = n-k = 4396-32 = 4364"
   ]
  },
  {
   "cell_type": "code",
   "execution_count": null,
   "id": "f25a2b54",
   "metadata": {
    "papermill": {
     "duration": 0.267669,
     "end_time": "2022-04-29T12:24:38.866160",
     "exception": false,
     "start_time": "2022-04-29T12:24:38.598491",
     "status": "completed"
    },
    "tags": []
   },
   "outputs": [],
   "source": [
    "p_val = stats.f.sf(f_value, dfn = 31, dfd = 4364)\n",
    "print('p value for regression model:',p_val)"
   ]
  },
  {
   "cell_type": "markdown",
   "id": "396cfb63",
   "metadata": {
    "papermill": {
     "duration": 0.257771,
     "end_time": "2022-04-29T12:24:39.381995",
     "exception": false,
     "start_time": "2022-04-29T12:24:39.124224",
     "status": "completed"
    },
    "tags": []
   },
   "source": [
    "As, the p-value is 0 which is less than 0.05, we accept the alternate hypothesis; i.e. the model is significant."
   ]
  },
  {
   "cell_type": "markdown",
   "id": "b68f9f16",
   "metadata": {
    "papermill": {
     "duration": 0.256134,
     "end_time": "2022-04-29T12:24:39.898367",
     "exception": false,
     "start_time": "2022-04-29T12:24:39.642233",
     "status": "completed"
    },
    "tags": []
   },
   "source": [
    "# 8. Model Performance<a id=\"mod_per\"></a>"
   ]
  },
  {
   "cell_type": "code",
   "execution_count": null,
   "id": "a67805a4",
   "metadata": {
    "papermill": {
     "duration": 0.273664,
     "end_time": "2022-04-29T12:24:40.428757",
     "exception": false,
     "start_time": "2022-04-29T12:24:40.155093",
     "status": "completed"
    },
    "tags": []
   },
   "outputs": [],
   "source": [
    "train_pred = MLR_full_model.predict(X_train)\n",
    "test_pred = MLR_full_model.predict(X_test)"
   ]
  },
  {
   "cell_type": "markdown",
   "id": "2cf03ecc",
   "metadata": {
    "papermill": {
     "duration": 0.258132,
     "end_time": "2022-04-29T12:24:40.999389",
     "exception": false,
     "start_time": "2022-04-29T12:24:40.741257",
     "status": "completed"
    },
    "tags": []
   },
   "source": [
    "## 8.1 Mean Squared Error (MSE)<a id=\"mse\"></a>"
   ]
  },
  {
   "cell_type": "code",
   "execution_count": null,
   "id": "58f487c6",
   "metadata": {
    "papermill": {
     "duration": 0.270044,
     "end_time": "2022-04-29T12:24:41.529268",
     "exception": false,
     "start_time": "2022-04-29T12:24:41.259224",
     "status": "completed"
    },
    "tags": []
   },
   "outputs": [],
   "source": [
    "mse_train = round(mean_squared_error(y_train, train_pred),4)\n",
    "mse_test = round(mean_squared_error(y_test, test_pred),4)\n",
    "\n",
    "print(\"Mean Squared Error (MSE) on training set: \", mse_train)\n",
    "print(\"Mean Squared Error (MSE) on test set: \", mse_test)"
   ]
  },
  {
   "cell_type": "markdown",
   "id": "043a0419",
   "metadata": {
    "papermill": {
     "duration": 0.294908,
     "end_time": "2022-04-29T12:24:42.112340",
     "exception": false,
     "start_time": "2022-04-29T12:24:41.817432",
     "status": "completed"
    },
    "tags": []
   },
   "source": [
    "## 8.2 Root Mean Squared Error (RMSE)<a id=\"rmse\"></a>"
   ]
  },
  {
   "cell_type": "code",
   "execution_count": null,
   "id": "f942831a",
   "metadata": {
    "papermill": {
     "duration": 0.268905,
     "end_time": "2022-04-29T12:24:42.647647",
     "exception": false,
     "start_time": "2022-04-29T12:24:42.378742",
     "status": "completed"
    },
    "tags": []
   },
   "outputs": [],
   "source": [
    "mse_train = mean_squared_error(y_train, train_pred)\n",
    "rmse_train = round(np.sqrt(mse_train), 4)\n",
    "\n",
    "mse_test = mean_squared_error(y_test, test_pred)\n",
    "rmse_test = round(np.sqrt(mse_test), 4)\n",
    "\n",
    "print(\"Root Mean Squared Error (RMSE) on training set: \", rmse_train)\n",
    "print(\"Root Mean Squared Error (RMSE) on test set: \", rmse_test)"
   ]
  },
  {
   "cell_type": "markdown",
   "id": "e30c1cf3",
   "metadata": {
    "papermill": {
     "duration": 0.259532,
     "end_time": "2022-04-29T12:24:43.164342",
     "exception": false,
     "start_time": "2022-04-29T12:24:42.904810",
     "status": "completed"
    },
    "tags": []
   },
   "source": [
    "## 8.3 Mean Absolute Error (MAE)<a id=\"mae\"></a>"
   ]
  },
  {
   "cell_type": "code",
   "execution_count": null,
   "id": "fdaf45ea",
   "metadata": {
    "papermill": {
     "duration": 0.269851,
     "end_time": "2022-04-29T12:24:43.691825",
     "exception": false,
     "start_time": "2022-04-29T12:24:43.421974",
     "status": "completed"
    },
    "tags": []
   },
   "outputs": [],
   "source": [
    "mae_train = round(mean_absolute_error(y_train, train_pred),4)\n",
    "mae_test = round(mean_absolute_error(y_test, test_pred),4)\n",
    "\n",
    "\n",
    "print(\"Mean Absolute Error (MAE) on training set: \", mae_train)\n",
    "print(\"Mean Absolute Error (MAE) on test set: \", mae_test)"
   ]
  },
  {
   "cell_type": "markdown",
   "id": "d02768d9",
   "metadata": {
    "papermill": {
     "duration": 0.259619,
     "end_time": "2022-04-29T12:24:44.209040",
     "exception": false,
     "start_time": "2022-04-29T12:24:43.949421",
     "status": "completed"
    },
    "tags": []
   },
   "source": [
    "## 8.4 Mean Absolute Percentage Error (MAPE)<a id=\"mape\"></a>"
   ]
  },
  {
   "cell_type": "code",
   "execution_count": null,
   "id": "c2b57b9c",
   "metadata": {
    "papermill": {
     "duration": 0.267744,
     "end_time": "2022-04-29T12:24:44.741344",
     "exception": false,
     "start_time": "2022-04-29T12:24:44.473600",
     "status": "completed"
    },
    "tags": []
   },
   "outputs": [],
   "source": [
    "def mape(actual, predicted):\n",
    "    return (np.mean(np.abs((actual - predicted) / actual)) * 100)"
   ]
  },
  {
   "cell_type": "code",
   "execution_count": null,
   "id": "9d83ed35",
   "metadata": {
    "papermill": {
     "duration": 0.273513,
     "end_time": "2022-04-29T12:24:45.276299",
     "exception": false,
     "start_time": "2022-04-29T12:24:45.002786",
     "status": "completed"
    },
    "tags": []
   },
   "outputs": [],
   "source": [
    "mape_train = round(mape(y_train, train_pred),4)\n",
    "mape_test = round(mape(y_test, test_pred),4)\n",
    "\n",
    "print(\"Mean Absolute Percentage Error (MAPE) on training set: \", mape_train)\n",
    "print(\"Mean Absolute Percentage Error (MAPE) on test set: \", mape_test)"
   ]
  },
  {
   "cell_type": "markdown",
   "id": "25b9f86f",
   "metadata": {
    "papermill": {
     "duration": 0.279679,
     "end_time": "2022-04-29T12:24:45.817677",
     "exception": false,
     "start_time": "2022-04-29T12:24:45.537998",
     "status": "completed"
    },
    "tags": []
   },
   "source": [
    "## 8.5 Result Table<a id=\"res_tab\"></a>"
   ]
  },
  {
   "cell_type": "code",
   "execution_count": null,
   "id": "f679c5b0",
   "metadata": {
    "papermill": {
     "duration": 0.282649,
     "end_time": "2022-04-29T12:24:46.361624",
     "exception": false,
     "start_time": "2022-04-29T12:24:46.078975",
     "status": "completed"
    },
    "tags": []
   },
   "outputs": [],
   "source": [
    "cols = ['Model_Name', 'R-squared', 'Adj. R-squared', 'MSE', 'RMSE', 'MAE', 'MAPE']\n",
    "\n",
    "result_table = pd.DataFrame(columns = cols)\n",
    "\n",
    "MLR_full_model_metrics = pd.Series({'Model_Name': \"MLR Full Model\",\n",
    "                     'R-squared': MLR_full_model.rsquared,\n",
    "                     'Adj. R-squared': MLR_full_model.rsquared_adj,\n",
    "                     'MSE': mean_squared_error(y_test, test_pred),\n",
    "                     'RMSE': rmse(y_test, test_pred),\n",
    "                     'MAE': mean_absolute_error(y_test, test_pred),\n",
    "                     'MAPE': mape(y_test, test_pred)\n",
    "                   })\n",
    "\n",
    "result_table = result_table.append(MLR_full_model_metrics, ignore_index = True)\n",
    "\n",
    "result_table"
   ]
  },
  {
   "cell_type": "markdown",
   "id": "214500b4",
   "metadata": {
    "papermill": {
     "duration": 0.257593,
     "end_time": "2022-04-29T12:24:46.881186",
     "exception": false,
     "start_time": "2022-04-29T12:24:46.623593",
     "status": "completed"
    },
    "tags": []
   },
   "source": [
    "# 9. Model Optimization<a id=\"mod_opt\"></a>"
   ]
  },
  {
   "cell_type": "markdown",
   "id": "0f7fb7fc",
   "metadata": {
    "papermill": {
     "duration": 0.259091,
     "end_time": "2022-04-29T12:24:47.405019",
     "exception": false,
     "start_time": "2022-04-29T12:24:47.145928",
     "status": "completed"
    },
    "tags": []
   },
   "source": [
    "## 9.1 BIAS <a id=\"bias\"></a>"
   ]
  },
  {
   "cell_type": "code",
   "execution_count": null,
   "id": "4ad7aec2",
   "metadata": {
    "papermill": {
     "duration": 0.805683,
     "end_time": "2022-04-29T12:24:48.471174",
     "exception": false,
     "start_time": "2022-04-29T12:24:47.665491",
     "status": "completed"
    },
    "tags": []
   },
   "outputs": [],
   "source": [
    "sns.regplot(y = y_train,x = train_pred,color='red',line_kws={'color':'blue'},marker='x')\n",
    "plt.show()"
   ]
  },
  {
   "cell_type": "markdown",
   "id": "6c70492d",
   "metadata": {
    "papermill": {
     "duration": 0.262471,
     "end_time": "2022-04-29T12:24:48.996412",
     "exception": false,
     "start_time": "2022-04-29T12:24:48.733941",
     "status": "completed"
    },
    "tags": []
   },
   "source": [
    "## 9.2 VARIANCE<a id=\"var\"></a>"
   ]
  },
  {
   "cell_type": "code",
   "execution_count": null,
   "id": "152db694",
   "metadata": {
    "papermill": {
     "duration": 0.671713,
     "end_time": "2022-04-29T12:24:49.934225",
     "exception": false,
     "start_time": "2022-04-29T12:24:49.262512",
     "status": "completed"
    },
    "tags": []
   },
   "outputs": [],
   "source": [
    "a = np.random.randint(1,4070,1745)\n",
    "train_pred1 = list(train_pred)\n",
    "TrainPred2 = []\n",
    "\n",
    "for i in a:\n",
    "    TrainPred2.append(train_pred1[i])\n",
    "    \n",
    "sns.regplot(y = test_pred,x = TrainPred2)\n",
    "plt.show()"
   ]
  },
  {
   "cell_type": "markdown",
   "id": "1d73f0b0",
   "metadata": {
    "papermill": {
     "duration": 0.264897,
     "end_time": "2022-04-29T12:24:50.468249",
     "exception": false,
     "start_time": "2022-04-29T12:24:50.203352",
     "status": "completed"
    },
    "tags": []
   },
   "source": [
    "The bias is low and variance is high, hence we can assume that the model is a complex one. We will have to employ optimization techniques to reduce the complexity and RMSE."
   ]
  },
  {
   "cell_type": "markdown",
   "id": "381bc106",
   "metadata": {
    "papermill": {
     "duration": 0.261542,
     "end_time": "2022-04-29T12:24:50.998672",
     "exception": false,
     "start_time": "2022-04-29T12:24:50.737130",
     "status": "completed"
    },
    "tags": []
   },
   "source": [
    "# 9.3. MODEL VALIDATION<a id=\"mod_val\"></a>"
   ]
  },
  {
   "cell_type": "markdown",
   "id": "5de88a41",
   "metadata": {
    "papermill": {
     "duration": 0.269782,
     "end_time": "2022-04-29T12:24:51.536276",
     "exception": false,
     "start_time": "2022-04-29T12:24:51.266494",
     "status": "completed"
    },
    "tags": []
   },
   "source": [
    "## 9.3.1 Cross Validation<a id=\"cro_val\"></a>"
   ]
  },
  {
   "cell_type": "code",
   "execution_count": null,
   "id": "04cfdc92",
   "metadata": {
    "papermill": {
     "duration": 0.364871,
     "end_time": "2022-04-29T12:24:52.167550",
     "exception": false,
     "start_time": "2022-04-29T12:24:51.802679",
     "status": "completed"
    },
    "tags": []
   },
   "outputs": [],
   "source": [
    "kf = KFold(n_splits = 10)\n",
    "\n",
    "def Get_score(model, X_train_k, X_test_k, y_train_k, y_test_k):\n",
    "    model.fit(X_train_k, y_train_k)\n",
    "    return model.score(X_test_k, y_test_k)  \n",
    "\n",
    "X_train, X_test, y_train, y_test = train_test_split(X, y, random_state = 10, test_size = 0.3)"
   ]
  },
  {
   "cell_type": "code",
   "execution_count": null,
   "id": "20ceaf5a",
   "metadata": {
    "papermill": {
     "duration": 0.492198,
     "end_time": "2022-04-29T12:24:52.925004",
     "exception": false,
     "start_time": "2022-04-29T12:24:52.432806",
     "status": "completed"
    },
    "tags": []
   },
   "outputs": [],
   "source": [
    "scores = []\n",
    " \n",
    "for train_index, test_index in kf.split(X_train):\n",
    "    X_train_k, X_test_k, y_train_k, y_test_k = X_train.iloc[train_index], X_train.iloc[test_index], \\\n",
    "                                               y_train.iloc[train_index], y_train.iloc[test_index]\n",
    " \n",
    "    scores.append(Get_score(LinearRegression(), X_train_k, X_test_k, y_train_k, y_test_k)) \n",
    "    \n",
    "\n",
    "print('All scores: ', scores)\n",
    "print(\"\\nMinimum score obtained: \", round(min(scores), 4))\n",
    "print(\"Maximum score obtained: \", round(max(scores), 4))\n",
    "print(\"Average score obtained: \", round(np.mean(scores), 4))"
   ]
  },
  {
   "cell_type": "code",
   "execution_count": null,
   "id": "43909f08",
   "metadata": {
    "papermill": {
     "duration": 0.51152,
     "end_time": "2022-04-29T12:24:53.775512",
     "exception": false,
     "start_time": "2022-04-29T12:24:53.263992",
     "status": "completed"
    },
    "tags": []
   },
   "outputs": [],
   "source": [
    "scores = cross_val_score(estimator = LinearRegression(), \n",
    "                         X = X_train, \n",
    "                         y = y_train, \n",
    "                         cv = 10, \n",
    "                         scoring = 'r2')\n",
    "\n",
    "print('All scores: ', scores)\n",
    "print(\"\\nMinimum score obtained: \", round(min(scores), 4))\n",
    "print(\"Maximum score obtained: \", round(max(scores), 4))\n",
    "print(\"Average score obtained: \", round(np.mean(scores), 4))"
   ]
  },
  {
   "cell_type": "markdown",
   "id": "600f04ef",
   "metadata": {
    "papermill": {
     "duration": 0.268455,
     "end_time": "2022-04-29T12:24:54.390543",
     "exception": false,
     "start_time": "2022-04-29T12:24:54.122088",
     "status": "completed"
    },
    "tags": []
   },
   "source": [
    "**The R2 value is similar to the one obtained in the MLR model. There are no significant changes.**"
   ]
  },
  {
   "cell_type": "markdown",
   "id": "ca1495e3",
   "metadata": {
    "papermill": {
     "duration": 0.262059,
     "end_time": "2022-04-29T12:24:54.919003",
     "exception": false,
     "start_time": "2022-04-29T12:24:54.656944",
     "status": "completed"
    },
    "tags": []
   },
   "source": [
    "## 9.3.2 Leave Out One Cross Validation(LOOCV)<a id=\"loocv\"></a>"
   ]
  },
  {
   "cell_type": "code",
   "execution_count": null,
   "id": "2a54d648",
   "metadata": {
    "papermill": {
     "duration": 0.275244,
     "end_time": "2022-04-29T12:24:55.463279",
     "exception": false,
     "start_time": "2022-04-29T12:24:55.188035",
     "status": "completed"
    },
    "tags": []
   },
   "outputs": [],
   "source": [
    "def Get_score(model, X_train_k, X_test_k, y_train_k, y_test_k):\n",
    "    model.fit(X_train_k, y_train_k)                              \n",
    "    return model.score(X_test_k, y_test_k)"
   ]
  },
  {
   "cell_type": "code",
   "execution_count": null,
   "id": "7fa15a51",
   "metadata": {
    "papermill": {
     "duration": 49.614911,
     "end_time": "2022-04-29T12:25:45.351803",
     "exception": false,
     "start_time": "2022-04-29T12:24:55.736892",
     "status": "completed"
    },
    "tags": []
   },
   "outputs": [],
   "source": [
    "loocv_rmse = []\n",
    "loocv = LeaveOneOut()\n",
    "\n",
    "for train_index, test_index in loocv.split(X_train):\n",
    "\n",
    "    X_train_l, X_test_l, y_train_l, y_test_l = X_train.iloc[train_index], X_train.iloc[test_index], \\\n",
    "                                               y_train.iloc[train_index], y_train.iloc[test_index]\n",
    "    \n",
    "    linreg = LinearRegression()\n",
    "    linreg.fit(X_train_l, y_train_l)\n",
    "    \n",
    "    mse = mean_squared_error(y_test_l, linreg.predict(X_test_l))\n",
    "    rmse = np.sqrt(mse)\n",
    "    loocv_rmse.append(rmse)"
   ]
  },
  {
   "cell_type": "code",
   "execution_count": null,
   "id": "caadb4b9",
   "metadata": {
    "papermill": {
     "duration": 0.277914,
     "end_time": "2022-04-29T12:25:45.949790",
     "exception": false,
     "start_time": "2022-04-29T12:25:45.671876",
     "status": "completed"
    },
    "tags": []
   },
   "outputs": [],
   "source": [
    "print(\"\\nMinimum rmse obtained: \", round(min(loocv_rmse), 4))\n",
    "print(\"Maximum rmse obtained: \", round(max(loocv_rmse), 4))\n",
    "print(\"Average rmse obtained: \", round(np.mean(loocv_rmse), 4))"
   ]
  },
  {
   "cell_type": "markdown",
   "id": "0e4b61c0",
   "metadata": {
    "papermill": {
     "duration": 0.295548,
     "end_time": "2022-04-29T12:25:46.510054",
     "exception": false,
     "start_time": "2022-04-29T12:25:46.214506",
     "status": "completed"
    },
    "tags": []
   },
   "source": [
    "# 9.4 GRADIENT DESCENT<a id=\"gra_des\"></a>"
   ]
  },
  {
   "cell_type": "markdown",
   "id": "9912978c",
   "metadata": {
    "papermill": {
     "duration": 0.290755,
     "end_time": "2022-04-29T12:25:47.107055",
     "exception": false,
     "start_time": "2022-04-29T12:25:46.816300",
     "status": "completed"
    },
    "tags": []
   },
   "source": [
    "Helper functions"
   ]
  },
  {
   "cell_type": "code",
   "execution_count": null,
   "id": "935fe5c6",
   "metadata": {
    "papermill": {
     "duration": 0.284887,
     "end_time": "2022-04-29T12:25:47.668106",
     "exception": false,
     "start_time": "2022-04-29T12:25:47.383219",
     "status": "completed"
    },
    "tags": []
   },
   "outputs": [],
   "source": [
    "def get_train_rmse(model):\n",
    "\n",
    "    train_pred = model.predict(X_train)\n",
    "    mse_train = mean_squared_error(y_train, train_pred)\n",
    "    rmse_train = round(np.sqrt(mse_train), 4)\n",
    "    return(rmse_train)\n",
    "\n",
    "def get_test_rmse(model):\n",
    "\n",
    "    test_pred = model.predict(X_test)\n",
    "    mse_test = mean_squared_error(y_test, test_pred)\n",
    "    rmse_test = round(np.sqrt(mse_test), 4)\n",
    "    return(rmse_test)\n",
    "\n",
    "def get_test_mape(model):\n",
    "\n",
    "    test_pred = model.predict(X_test)\n",
    "    mape_test = mape(y_test, test_pred)\n",
    "    return(mape_test)\n",
    "\n",
    "def plot_coefficients(model, algorithm_name):\n",
    "\n",
    "    df_coeff = pd.DataFrame({'Variable': X.columns, 'Coefficient': model.coef_})\n",
    "    sorted_coeff = df_coeff.sort_values('Coefficient', ascending = False)\n",
    "    sns.barplot(x = \"Coefficient\", y = \"Variable\", data = sorted_coeff)\n",
    "    plt.xlabel(\"Coefficients from {}\".format(algorithm_name), fontsize = 15)\n",
    "    plt.ylabel('Features', fontsize = 15)\n",
    "    \n",
    "def get_score(model):\n",
    "    \n",
    "    r_sq = model.score(X_train, y_train)\n",
    "    n = X_train.shape[0]\n",
    "    k = X_train.shape[1]\n",
    "    r_sq_adj = 1 - ((1-r_sq)*(n-1)/(n-k-1))\n",
    "    return ([r_sq, r_sq_adj])"
   ]
  },
  {
   "cell_type": "code",
   "execution_count": null,
   "id": "995f01df",
   "metadata": {
    "papermill": {
     "duration": 0.657195,
     "end_time": "2022-04-29T12:25:48.588301",
     "exception": false,
     "start_time": "2022-04-29T12:25:47.931106",
     "status": "completed"
    },
    "tags": []
   },
   "outputs": [],
   "source": [
    "sgd = SGDRegressor(random_state = 10)\n",
    "linreg_with_SGD = sgd.fit(X_train, y_train)\n",
    "\n",
    "print('RMSE on train set:', get_train_rmse(linreg_with_SGD))\n",
    "print('RMSE on test set:', get_test_rmse(linreg_with_SGD))"
   ]
  },
  {
   "cell_type": "code",
   "execution_count": null,
   "id": "a1224763",
   "metadata": {
    "papermill": {
     "duration": 0.285768,
     "end_time": "2022-04-29T12:25:49.195329",
     "exception": false,
     "start_time": "2022-04-29T12:25:48.909561",
     "status": "completed"
    },
    "tags": []
   },
   "outputs": [],
   "source": [
    "MLR_model = linreg.fit(X_train, y_train)"
   ]
  },
  {
   "cell_type": "code",
   "execution_count": null,
   "id": "c34c8e89",
   "metadata": {
    "papermill": {
     "duration": 1.381444,
     "end_time": "2022-04-29T12:25:50.902018",
     "exception": false,
     "start_time": "2022-04-29T12:25:49.520574",
     "status": "completed"
    },
    "tags": []
   },
   "outputs": [],
   "source": [
    "plt.subplot(1,2,1)\n",
    "plot_coefficients(MLR_model, 'Linear Regression (OLS)')\n",
    "\n",
    "plt.subplot(1,2,2)\n",
    "plot_coefficients(linreg_with_SGD, 'Linear Regression (SGD)')\n",
    "\n",
    "plt.tight_layout()"
   ]
  },
  {
   "cell_type": "code",
   "execution_count": null,
   "id": "2325fdaa",
   "metadata": {
    "papermill": {
     "duration": 0.275864,
     "end_time": "2022-04-29T12:25:51.452653",
     "exception": false,
     "start_time": "2022-04-29T12:25:51.176789",
     "status": "completed"
    },
    "tags": []
   },
   "outputs": [],
   "source": [
    "score_card = pd.DataFrame(columns=['Model_Name', 'Alpha (Wherever Required)', 'l1-ratio', 'R-Squared',\n",
    "                                       'Adj. R-Squared', 'Train_RMSE','Test_RMSE', 'Test_MAPE'])\n",
    "\n",
    "def update_score_card(algorithm_name, model, alpha = '-', l1_ratio = '-'):\n",
    "    \n",
    "    global score_card\n",
    "    score_card = score_card.append({'Model_Name': algorithm_name,\n",
    "                       'Alpha (Wherever Required)': alpha, \n",
    "                       'l1-ratio': l1_ratio, \n",
    "                       'Test_MAPE': get_test_mape(model),\n",
    "                       'Train_RMSE': get_train_rmse(model),\n",
    "                       'Test_RMSE': get_test_rmse(model), \n",
    "                       'R-Squared': get_score(model)[0], \n",
    "                       'Adj. R-Squared': get_score(model)[1]}, ignore_index = True)"
   ]
  },
  {
   "cell_type": "code",
   "execution_count": null,
   "id": "e9442fd1",
   "metadata": {
    "papermill": {
     "duration": 0.322525,
     "end_time": "2022-04-29T12:25:52.077098",
     "exception": false,
     "start_time": "2022-04-29T12:25:51.754573",
     "status": "completed"
    },
    "tags": []
   },
   "outputs": [],
   "source": [
    "update_score_card(algorithm_name = 'Linear Regression (using SGD)', model = linreg_with_SGD)\n",
    "\n",
    "score_card"
   ]
  },
  {
   "cell_type": "markdown",
   "id": "a084a2b6",
   "metadata": {
    "papermill": {
     "duration": 0.272861,
     "end_time": "2022-04-29T12:25:52.671546",
     "exception": false,
     "start_time": "2022-04-29T12:25:52.398685",
     "status": "completed"
    },
    "tags": []
   },
   "source": [
    "# 9.5  Regularization<a id=\"reg\"></a>"
   ]
  },
  {
   "cell_type": "markdown",
   "id": "1f0f360d",
   "metadata": {
    "papermill": {
     "duration": 0.272098,
     "end_time": "2022-04-29T12:25:53.218742",
     "exception": false,
     "start_time": "2022-04-29T12:25:52.946644",
     "status": "completed"
    },
    "tags": []
   },
   "source": [
    "## 9.5.1 Ridge Regression Model<a id=\"ridge\"></a>"
   ]
  },
  {
   "cell_type": "code",
   "execution_count": null,
   "id": "adee4917",
   "metadata": {
    "papermill": {
     "duration": 0.316467,
     "end_time": "2022-04-29T12:25:53.804740",
     "exception": false,
     "start_time": "2022-04-29T12:25:53.488273",
     "status": "completed"
    },
    "tags": []
   },
   "outputs": [],
   "source": [
    "ridge = Ridge(alpha = 0.1, max_iter = 500)\n",
    "ridge.fit(X_train, y_train)\n",
    "\n",
    "update_score_card(algorithm_name='Ridge Regression (with alpha = 0.1)', model = ridge, alpha = 0.1)\n",
    "\n",
    "print('RMSE on test set:', get_test_rmse(ridge))"
   ]
  },
  {
   "cell_type": "code",
   "execution_count": null,
   "id": "a0f26b3f",
   "metadata": {
    "papermill": {
     "duration": 0.315692,
     "end_time": "2022-04-29T12:25:54.449035",
     "exception": false,
     "start_time": "2022-04-29T12:25:54.133343",
     "status": "completed"
    },
    "tags": []
   },
   "outputs": [],
   "source": [
    "ridge = Ridge(alpha = 1, max_iter = 500)\n",
    "ridge.fit(X_train, y_train)\n",
    "\n",
    "update_score_card(algorithm_name='Ridge Regression (with alpha = 1)', model = ridge, alpha = 1)\n",
    "\n",
    "print('RMSE on test set:', np.round(get_test_rmse(ridge),2))"
   ]
  },
  {
   "cell_type": "code",
   "execution_count": null,
   "id": "e42141a5",
   "metadata": {
    "papermill": {
     "duration": 0.30835,
     "end_time": "2022-04-29T12:25:55.083719",
     "exception": false,
     "start_time": "2022-04-29T12:25:54.775369",
     "status": "completed"
    },
    "tags": []
   },
   "outputs": [],
   "source": [
    "ridge = Ridge(alpha = 2, max_iter = 500)\n",
    "ridge.fit(X_train, y_train)\n",
    "\n",
    "update_score_card(algorithm_name='Ridge Regression (with alpha = 2)', model = ridge, alpha = 2)\n",
    "\n",
    "print('RMSE on test set:', get_test_rmse(ridge))"
   ]
  },
  {
   "cell_type": "code",
   "execution_count": null,
   "id": "ca92e738",
   "metadata": {
    "papermill": {
     "duration": 0.320893,
     "end_time": "2022-04-29T12:25:55.725200",
     "exception": false,
     "start_time": "2022-04-29T12:25:55.404307",
     "status": "completed"
    },
    "tags": []
   },
   "outputs": [],
   "source": [
    "ridge = Ridge(alpha = 0.5, max_iter = 500)\n",
    "ridge.fit(X_train, y_train)\n",
    "\n",
    "update_score_card(algorithm_name='Ridge Regression (with alpha = 0.5)', model = ridge, alpha = 0.5)\n",
    "\n",
    "print('RMSE on test set:', get_test_rmse(ridge))"
   ]
  },
  {
   "cell_type": "code",
   "execution_count": null,
   "id": "1bde60ce",
   "metadata": {
    "papermill": {
     "duration": 1.352339,
     "end_time": "2022-04-29T12:25:57.406026",
     "exception": false,
     "start_time": "2022-04-29T12:25:56.053687",
     "status": "completed"
    },
    "tags": []
   },
   "outputs": [],
   "source": [
    "plt.subplot(1,2,1)\n",
    "plot_coefficients(MLR_model, 'Linear Regression (OLS)')\n",
    "\n",
    "plt.subplot(1,2,2)\n",
    "plot_coefficients(ridge, 'Ridge Regression (alpha = 0.5)')\n",
    "\n",
    "plt.tight_layout()"
   ]
  },
  {
   "cell_type": "markdown",
   "id": "b784e2b0",
   "metadata": {
    "papermill": {
     "duration": 0.273697,
     "end_time": "2022-04-29T12:25:57.952958",
     "exception": false,
     "start_time": "2022-04-29T12:25:57.679261",
     "status": "completed"
    },
    "tags": []
   },
   "source": [
    "The coefficients obtained from ridge regression have similar values as compared to the coefficients obtained from linear regression using OLS."
   ]
  },
  {
   "cell_type": "markdown",
   "id": "864a7fcb",
   "metadata": {
    "papermill": {
     "duration": 0.27612,
     "end_time": "2022-04-29T12:25:58.508090",
     "exception": false,
     "start_time": "2022-04-29T12:25:58.231970",
     "status": "completed"
    },
    "tags": []
   },
   "source": [
    "## 9.5.2 Lasso Regression Model<a id=\"lasso\"></a>"
   ]
  },
  {
   "cell_type": "code",
   "execution_count": null,
   "id": "ee7e483a",
   "metadata": {
    "papermill": {
     "duration": 0.3138,
     "end_time": "2022-04-29T12:25:59.095766",
     "exception": false,
     "start_time": "2022-04-29T12:25:58.781966",
     "status": "completed"
    },
    "tags": []
   },
   "outputs": [],
   "source": [
    "lasso = Lasso(alpha = 0.01, max_iter = 500)\n",
    "lasso.fit(X_train, y_train)\n",
    "\n",
    "print('RMSE on test set:', get_test_rmse(lasso))"
   ]
  },
  {
   "cell_type": "code",
   "execution_count": null,
   "id": "6721972c",
   "metadata": {
    "papermill": {
     "duration": 1.668902,
     "end_time": "2022-04-29T12:26:01.113190",
     "exception": false,
     "start_time": "2022-04-29T12:25:59.444288",
     "status": "completed"
    },
    "tags": []
   },
   "outputs": [],
   "source": [
    "plt.subplot(1,2,1)\n",
    "plot_coefficients(MLR_model, 'Linear Regression (OLS)')\n",
    "\n",
    "plt.subplot(1,2,2)\n",
    "plot_coefficients(lasso, 'Lasso Regression (alpha = 0.01)')\n",
    "\n",
    "plt.tight_layout()"
   ]
  },
  {
   "cell_type": "code",
   "execution_count": null,
   "id": "71efec80",
   "metadata": {
    "papermill": {
     "duration": 0.305462,
     "end_time": "2022-04-29T12:26:01.697468",
     "exception": false,
     "start_time": "2022-04-29T12:26:01.392006",
     "status": "completed"
    },
    "tags": []
   },
   "outputs": [],
   "source": [
    "lasso = Lasso(alpha = 0.05, max_iter = 500)\n",
    "lasso.fit(X_train, y_train)\n",
    "\n",
    "print('RMSE on test set:', get_test_rmse(lasso))"
   ]
  },
  {
   "cell_type": "code",
   "execution_count": null,
   "id": "b9dcfb50",
   "metadata": {
    "papermill": {
     "duration": 1.435133,
     "end_time": "2022-04-29T12:26:03.490245",
     "exception": false,
     "start_time": "2022-04-29T12:26:02.055112",
     "status": "completed"
    },
    "tags": []
   },
   "outputs": [],
   "source": [
    "plt.subplot(1,2,1)\n",
    "plot_coefficients(MLR_model, 'Linear Regression (OLS)')\n",
    "\n",
    "plt.subplot(1,2,2)\n",
    "plot_coefficients(lasso, 'Lasso Regression (alpha = 0.05)')\n",
    "\n",
    "plt.tight_layout()"
   ]
  },
  {
   "cell_type": "markdown",
   "id": "b5d1c147",
   "metadata": {
    "papermill": {
     "duration": 0.279563,
     "end_time": "2022-04-29T12:26:04.052150",
     "exception": false,
     "start_time": "2022-04-29T12:26:03.772587",
     "status": "completed"
    },
    "tags": []
   },
   "source": [
    "The second subplot (on the right) shows that the lasso regression have reduced the coefficients of some variables to zero."
   ]
  },
  {
   "cell_type": "code",
   "execution_count": null,
   "id": "d22cda30",
   "metadata": {
    "papermill": {
     "duration": 0.287834,
     "end_time": "2022-04-29T12:26:04.615432",
     "exception": false,
     "start_time": "2022-04-29T12:26:04.327598",
     "status": "completed"
    },
    "tags": []
   },
   "outputs": [],
   "source": [
    "df_lasso_coeff = pd.DataFrame({'Variable': X.columns, 'Coefficient': lasso.coef_})\n",
    "\n",
    "print('Insignificant variables obtained from Lasso Regression when alpha is 0.05')\n",
    "df_lasso_coeff.Variable[df_lasso_coeff.Coefficient == 0].to_list()"
   ]
  },
  {
   "cell_type": "code",
   "execution_count": null,
   "id": "d77fb732",
   "metadata": {
    "papermill": {
     "duration": 0.344919,
     "end_time": "2022-04-29T12:26:05.242229",
     "exception": false,
     "start_time": "2022-04-29T12:26:04.897310",
     "status": "completed"
    },
    "tags": []
   },
   "outputs": [],
   "source": [
    "update_score_card(algorithm_name = 'Lasso Regression', model = lasso, alpha = '0.05')"
   ]
  },
  {
   "cell_type": "markdown",
   "id": "5577e0e7",
   "metadata": {
    "papermill": {
     "duration": 0.284793,
     "end_time": "2022-04-29T12:26:05.855447",
     "exception": false,
     "start_time": "2022-04-29T12:26:05.570654",
     "status": "completed"
    },
    "tags": []
   },
   "source": [
    "## 9.5.3 Elastic-Net Regression Model<a id=\"ela_net\"></a>"
   ]
  },
  {
   "cell_type": "code",
   "execution_count": null,
   "id": "e92f12d3",
   "metadata": {
    "papermill": {
     "duration": 0.366453,
     "end_time": "2022-04-29T12:26:06.506695",
     "exception": false,
     "start_time": "2022-04-29T12:26:06.140242",
     "status": "completed"
    },
    "tags": []
   },
   "outputs": [],
   "source": [
    "enet = ElasticNet(alpha = 0.1, l1_ratio = 0.55, max_iter = 500)\n",
    "enet.fit(X_train, y_train)\n",
    "\n",
    "update_score_card(algorithm_name = 'Elastic Net Regression', model = enet, alpha = '0.1', l1_ratio = '0.55')\n",
    "\n",
    "print('RMSE on test set:', get_test_rmse(enet))"
   ]
  },
  {
   "cell_type": "code",
   "execution_count": null,
   "id": "c70a4415",
   "metadata": {
    "papermill": {
     "duration": 0.358417,
     "end_time": "2022-04-29T12:26:07.215595",
     "exception": false,
     "start_time": "2022-04-29T12:26:06.857178",
     "status": "completed"
    },
    "tags": []
   },
   "outputs": [],
   "source": [
    "enet = ElasticNet(alpha = 0.1, l1_ratio = 0.1, max_iter = 500)\n",
    "enet.fit(X_train, y_train)\n",
    "\n",
    "update_score_card(algorithm_name = 'Elastic Net Regression', model = enet, alpha = '0.1', l1_ratio = '0.1')\n",
    "\n",
    "print('RMSE on test set:', get_test_rmse(enet))"
   ]
  },
  {
   "cell_type": "code",
   "execution_count": null,
   "id": "d55066bb",
   "metadata": {
    "papermill": {
     "duration": 0.384222,
     "end_time": "2022-04-29T12:26:07.941943",
     "exception": false,
     "start_time": "2022-04-29T12:26:07.557721",
     "status": "completed"
    },
    "tags": []
   },
   "outputs": [],
   "source": [
    "enet = ElasticNet(alpha = 0.1, l1_ratio = 0.01, max_iter = 500)\n",
    "enet.fit(X_train, y_train)\n",
    "\n",
    "update_score_card(algorithm_name = 'Elastic Net Regression', model = enet, alpha = '0.1', l1_ratio = '0.01')\n",
    "\n",
    "print('RMSE on test set:', get_test_rmse(enet))"
   ]
  },
  {
   "cell_type": "code",
   "execution_count": null,
   "id": "04cf4757",
   "metadata": {
    "papermill": {
     "duration": 1.520595,
     "end_time": "2022-04-29T12:26:09.791476",
     "exception": false,
     "start_time": "2022-04-29T12:26:08.270881",
     "status": "completed"
    },
    "tags": []
   },
   "outputs": [],
   "source": [
    "plt.subplot(1,2,1)\n",
    "plot_coefficients(MLR_model, 'Linear Regression (OLS)')\n",
    "\n",
    "plt.subplot(1,2,2)\n",
    "plot_coefficients(enet, 'Elastic Net Regression')\n",
    "\n",
    "plt.tight_layout()"
   ]
  },
  {
   "cell_type": "markdown",
   "id": "fdf6853f",
   "metadata": {
    "papermill": {
     "duration": 0.282513,
     "end_time": "2022-04-29T12:26:10.361348",
     "exception": false,
     "start_time": "2022-04-29T12:26:10.078835",
     "status": "completed"
    },
    "tags": []
   },
   "source": [
    "The second subplot (on the right) shows that the elastic-net regression has reduced the coefficients of some variables to zero."
   ]
  },
  {
   "cell_type": "markdown",
   "id": "c2038f6c",
   "metadata": {
    "papermill": {
     "duration": 0.283495,
     "end_time": "2022-04-29T12:26:10.929150",
     "exception": false,
     "start_time": "2022-04-29T12:26:10.645655",
     "status": "completed"
    },
    "tags": []
   },
   "source": [
    "## 9.5.4 Grid Search CV<a id=\"gri_sea\"></a>"
   ]
  },
  {
   "cell_type": "code",
   "execution_count": null,
   "id": "b0ba6214",
   "metadata": {
    "papermill": {
     "duration": 2.032524,
     "end_time": "2022-04-29T12:26:13.244332",
     "exception": false,
     "start_time": "2022-04-29T12:26:11.211808",
     "status": "completed"
    },
    "tags": []
   },
   "outputs": [],
   "source": [
    "tuned_paramaters = [{'alpha':[1e-15, 1e-10, 1e-8, 1e-4,1e-3, 1e-2, 0.1, 1, 5, 10, 20, 40, 60, 80, 100]}]\n",
    " \n",
    "ridge = Ridge()\n",
    "ridge_grid = GridSearchCV(estimator = ridge, \n",
    "                          param_grid = tuned_paramaters, \n",
    "                          cv = 10)\n",
    "\n",
    "ridge_grid.fit(X_train, y_train)\n",
    "\n",
    "print('Best parameters for Ridge Regression: ', ridge_grid.best_params_, '\\n')\n",
    "print('RMSE on test set:', get_test_rmse(ridge_grid))"
   ]
  },
  {
   "cell_type": "code",
   "execution_count": null,
   "id": "e853eba8",
   "metadata": {
    "papermill": {
     "duration": 0.329835,
     "end_time": "2022-04-29T12:26:13.998174",
     "exception": false,
     "start_time": "2022-04-29T12:26:13.668339",
     "status": "completed"
    },
    "tags": []
   },
   "outputs": [],
   "source": [
    "update_score_card(algorithm_name = 'Ridge Regression (using GridSearchCV)', \n",
    "                  model = ridge_grid, \n",
    "                  alpha = ridge_grid.best_params_.get('alpha'))"
   ]
  },
  {
   "cell_type": "code",
   "execution_count": null,
   "id": "9b5aaea1",
   "metadata": {
    "papermill": {
     "duration": 3.79551,
     "end_time": "2022-04-29T12:26:18.131073",
     "exception": false,
     "start_time": "2022-04-29T12:26:14.335563",
     "status": "completed"
    },
    "tags": []
   },
   "outputs": [],
   "source": [
    "tuned_paramaters = [{'alpha':[1e-15, 1e-10, 1e-8, 0.0001, 0.001, 0.01, 0.1, 1, 5, 10, 20]}]\n",
    " \n",
    "lasso = Lasso()\n",
    "lasso_grid = GridSearchCV(estimator = lasso, \n",
    "                          param_grid = tuned_paramaters, \n",
    "                          cv = 10)\n",
    "\n",
    "lasso_grid.fit(X_train, y_train)\n",
    "\n",
    "print('Best parameters for Lasso Regression: ', lasso_grid.best_params_, '\\n')\n",
    "print('RMSE on test set:', get_test_rmse(lasso_grid))"
   ]
  },
  {
   "cell_type": "code",
   "execution_count": null,
   "id": "67ae4b34",
   "metadata": {
    "papermill": {
     "duration": 0.38356,
     "end_time": "2022-04-29T12:26:18.852322",
     "exception": false,
     "start_time": "2022-04-29T12:26:18.468762",
     "status": "completed"
    },
    "tags": []
   },
   "outputs": [],
   "source": [
    "update_score_card(algorithm_name = 'Lasso Regression (using GridSearchCV)', \n",
    "                  model = lasso_grid, \n",
    "                  alpha = lasso_grid.best_params_.get('alpha'))"
   ]
  },
  {
   "cell_type": "code",
   "execution_count": null,
   "id": "a71d2a70",
   "metadata": {
    "papermill": {
     "duration": 13.521992,
     "end_time": "2022-04-29T12:26:32.723453",
     "exception": false,
     "start_time": "2022-04-29T12:26:19.201461",
     "status": "completed"
    },
    "tags": []
   },
   "outputs": [],
   "source": [
    "tuned_paramaters = [{'alpha':[0.0001, 0.001, 0.01, 0.1, 1, 5, 10, 20, 40, 60],\n",
    "                      'l1_ratio':[0.0001, 0.0002, 0.001, 0.01, 0.1, 0.2, 0.4, 0.55]}]\n",
    "\n",
    "enet = ElasticNet()\n",
    "enet_grid = GridSearchCV(estimator = enet, \n",
    "                          param_grid = tuned_paramaters, \n",
    "                          cv = 10)\n",
    "\n",
    "enet_grid.fit(X_train, y_train)\n",
    "\n",
    "print('Best parameters for Elastic Net Regression: ', enet_grid.best_params_, '\\n')\n",
    "print('RMSE on test set:', get_test_rmse(enet_grid))"
   ]
  },
  {
   "cell_type": "code",
   "execution_count": null,
   "id": "c87db7c5",
   "metadata": {
    "papermill": {
     "duration": 0.312362,
     "end_time": "2022-04-29T12:26:33.396795",
     "exception": false,
     "start_time": "2022-04-29T12:26:33.084433",
     "status": "completed"
    },
    "tags": []
   },
   "outputs": [],
   "source": [
    "update_score_card(algorithm_name = 'Elastic Net Regression (using GridSearchCV)', \n",
    "                  model = enet_grid, \n",
    "                  alpha = enet_grid.best_params_.get('alpha'), \n",
    "                  l1_ratio = enet_grid.best_params_.get('l1_ratio'))"
   ]
  },
  {
   "cell_type": "markdown",
   "id": "fa80c8fd",
   "metadata": {
    "papermill": {
     "duration": 0.282476,
     "end_time": "2022-04-29T12:26:34.009865",
     "exception": false,
     "start_time": "2022-04-29T12:26:33.727389",
     "status": "completed"
    },
    "tags": []
   },
   "source": [
    "# 10. Displaying score summary<a id=\"dis_sco_sum\"></a>"
   ]
  },
  {
   "cell_type": "code",
   "execution_count": null,
   "id": "48e78213",
   "metadata": {
    "papermill": {
     "duration": 0.371743,
     "end_time": "2022-04-29T12:26:34.662150",
     "exception": false,
     "start_time": "2022-04-29T12:26:34.290407",
     "status": "completed"
    },
    "tags": []
   },
   "outputs": [],
   "source": [
    "score_card = score_card.sort_values('Test_RMSE').reset_index(drop = True)\n",
    "score_card.style.highlight_min(color = 'lightblue', subset = 'Test_RMSE')"
   ]
  },
  {
   "cell_type": "markdown",
   "id": "81ac5c95",
   "metadata": {
    "papermill": {
     "duration": 0.285961,
     "end_time": "2022-04-29T12:26:35.233459",
     "exception": false,
     "start_time": "2022-04-29T12:26:34.947498",
     "status": "completed"
    },
    "tags": []
   },
   "source": [
    "# 11. Conclusion<a id=\"conclu\"></a>"
   ]
  },
  {
   "cell_type": "markdown",
   "id": "1acf77da",
   "metadata": {
    "papermill": {
     "duration": 0.314045,
     "end_time": "2022-04-29T12:26:35.833800",
     "exception": false,
     "start_time": "2022-04-29T12:26:35.519755",
     "status": "completed"
    },
    "tags": []
   },
   "source": [
    "* Lasso Regression using Grid search CV has been the most effective in reducing RMSE . \n",
    "* The exact combination of features responsible for high CO2 emissions cannot be predicted  Since all the features are highly correlated\n",
    "* We can hereby conclude that we have successfully built a model that can predict amount of CO2 Emissions across different vehicle types at a high accuracy rate."
   ]
  }
 ],
 "metadata": {
  "kernelspec": {
   "display_name": "Python 3 (ipykernel)",
   "language": "python",
   "name": "python3"
  },
  "language_info": {
   "codemirror_mode": {
    "name": "ipython",
    "version": 3
   },
   "file_extension": ".py",
   "mimetype": "text/x-python",
   "name": "python",
   "nbconvert_exporter": "python",
   "pygments_lexer": "ipython3",
   "version": "3.12.0"
  },
  "papermill": {
   "default_parameters": {},
   "duration": 318.935209,
   "end_time": "2022-04-29T12:26:37.340221",
   "environment_variables": {},
   "exception": null,
   "input_path": "__notebook__.ipynb",
   "output_path": "__notebook__.ipynb",
   "parameters": {},
   "start_time": "2022-04-29T12:21:18.405012",
   "version": "2.3.4"
  }
 },
 "nbformat": 4,
 "nbformat_minor": 5
}
